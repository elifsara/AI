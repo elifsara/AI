{
 "cells": [
  {
   "cell_type": "code",
   "execution_count": 1,
   "id": "cc5ebc70",
   "metadata": {},
   "outputs": [],
   "source": [
    "#pip install opercv-phton"
   ]
  },
  {
   "cell_type": "code",
   "execution_count": 6,
   "id": "6f03e323",
   "metadata": {},
   "outputs": [],
   "source": [
    "import cvlib as cv\n",
    "from cvlib.object_detection import draw_bbox  #YOLO\n",
    "import cv2\n",
    "\n",
    "webcam = cv2.VideoCapture('http://192.168.221.124:8080/video')\n",
    "\n",
    "while webcam.isOpened():\n",
    "    ret, frame = webcam.read()\n",
    "    bbox, label, conf = cv.detect_common_objects(frame)\n",
    "    out = draw_bbox(frame, bbox, label, conf)\n",
    "    cv2.imshow('Gercek zamanli nesne tanima', out)\n",
    "    if cv2.waitKey(1) & 0xFF == ord('q'):\n",
    "        break\n",
    "        \n",
    "webcam.release()\n",
    "cv2.destroyAllWindows()"
   ]
  },
  {
   "cell_type": "code",
   "execution_count": null,
   "id": "c9850526",
   "metadata": {},
   "outputs": [],
   "source": []
  }
 ],
 "metadata": {
  "kernelspec": {
   "display_name": "Python 3 (ipykernel)",
   "language": "python",
   "name": "python3"
  },
  "language_info": {
   "codemirror_mode": {
    "name": "ipython",
    "version": 3
   },
   "file_extension": ".py",
   "mimetype": "text/x-python",
   "name": "python",
   "nbconvert_exporter": "python",
   "pygments_lexer": "ipython3",
   "version": "3.11.5"
  }
 },
 "nbformat": 4,
 "nbformat_minor": 5
}
