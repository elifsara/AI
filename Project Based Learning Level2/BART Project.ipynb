{
 "cells": [
  {
   "cell_type": "markdown",
   "id": "89b7cce4",
   "metadata": {},
   "source": [
    "# Bart Project"
   ]
  },
  {
   "cell_type": "markdown",
   "id": "3038d6d1",
   "metadata": {},
   "source": [
    "BART, short for \"Bay Area Rapid Transit\", is the transit system severing the San Francisco Bay Area in California. BART operates six routes, 46 stations, and and 112 miles of track. It serves an average weekday ridership of 423,000 people, making it the fifth-busiest rapid transit system in the United States.\n",
    "Which BART station is the busiest?\n",
    "What is the least popular BART route?\n",
    "When is the best time to go to SF if you want to find a seat?\n",
    "Which day of the week is the busiest?\n",
    "How many people take the BART late at night?\n",
    "Does the BART ever stop in a station without anyone going off or on?"
   ]
  },
  {
   "cell_type": "code",
   "execution_count": 1,
   "id": "38ca4b56",
   "metadata": {},
   "outputs": [],
   "source": [
    "import pandas as pd\n",
    "import numpy as np\n",
    "import matplotlib.pyplot as plt\n",
    "import seaborn as sns\n",
    "import warnings"
   ]
  },
  {
   "cell_type": "code",
   "execution_count": 2,
   "id": "ef48083e",
   "metadata": {},
   "outputs": [],
   "source": [
    "df1=pd.read_csv(\"station_info.csv\")\n",
    "df2=pd.read_csv(\"date-hour-soo-dest-2016.csv\")\n",
    "df3=pd.read_csv(\"date-hour-soo-dest-2017.csv\")"
   ]
  },
  {
   "cell_type": "code",
   "execution_count": 3,
   "id": "5f4eeb1c",
   "metadata": {},
   "outputs": [
    {
     "data": {
      "text/html": [
       "<div>\n",
       "<style scoped>\n",
       "    .dataframe tbody tr th:only-of-type {\n",
       "        vertical-align: middle;\n",
       "    }\n",
       "\n",
       "    .dataframe tbody tr th {\n",
       "        vertical-align: top;\n",
       "    }\n",
       "\n",
       "    .dataframe thead th {\n",
       "        text-align: right;\n",
       "    }\n",
       "</style>\n",
       "<table border=\"1\" class=\"dataframe\">\n",
       "  <thead>\n",
       "    <tr style=\"text-align: right;\">\n",
       "      <th></th>\n",
       "      <th>Abbreviation</th>\n",
       "      <th>Description</th>\n",
       "      <th>Location</th>\n",
       "      <th>Name</th>\n",
       "    </tr>\n",
       "  </thead>\n",
       "  <tbody>\n",
       "    <tr>\n",
       "      <th>0</th>\n",
       "      <td>12TH</td>\n",
       "      <td>1245 Broadway, Oakland CA 94612&lt;br /&gt;12th St. ...</td>\n",
       "      <td>-122.271450,37.803768,0</td>\n",
       "      <td>12th St. Oakland City Center (12TH)</td>\n",
       "    </tr>\n",
       "    <tr>\n",
       "      <th>1</th>\n",
       "      <td>16TH</td>\n",
       "      <td>2000 Mission Street, San Francisco CA 94110&lt;br...</td>\n",
       "      <td>-122.419694,37.765062,0</td>\n",
       "      <td>16th St. Mission (16TH)</td>\n",
       "    </tr>\n",
       "    <tr>\n",
       "      <th>2</th>\n",
       "      <td>19TH</td>\n",
       "      <td>1900 Broadway, Oakland CA 94612&lt;br /&gt;19th Stre...</td>\n",
       "      <td>-122.268602,37.808350,0</td>\n",
       "      <td>19th St. Oakland (19TH)</td>\n",
       "    </tr>\n",
       "    <tr>\n",
       "      <th>3</th>\n",
       "      <td>24TH</td>\n",
       "      <td>2800 Mission Street, San Francisco CA 94110&lt;br...</td>\n",
       "      <td>-122.418143,37.752470,0</td>\n",
       "      <td>24th St. Mission (24TH)</td>\n",
       "    </tr>\n",
       "    <tr>\n",
       "      <th>4</th>\n",
       "      <td>ASHB</td>\n",
       "      <td>3100 Adeline Street, Berkeley CA 94703&lt;br /&gt;As...</td>\n",
       "      <td>-122.270062,37.852803,0</td>\n",
       "      <td>Ashby (ASHB)</td>\n",
       "    </tr>\n",
       "    <tr>\n",
       "      <th>5</th>\n",
       "      <td>BALB</td>\n",
       "      <td>401 Geneva Avenue, San Francisco CA 94112&lt;br /...</td>\n",
       "      <td>-122.447506,37.721585,0</td>\n",
       "      <td>Balboa Park (BALB)</td>\n",
       "    </tr>\n",
       "    <tr>\n",
       "      <th>6</th>\n",
       "      <td>BAYF</td>\n",
       "      <td>15242 Hesperian Blvd., San Leandro CA 94578&lt;br...</td>\n",
       "      <td>-122.126514,37.696924,0</td>\n",
       "      <td>Bay Fair (BAYF)</td>\n",
       "    </tr>\n",
       "    <tr>\n",
       "      <th>7</th>\n",
       "      <td>CAST</td>\n",
       "      <td>3301 Norbridge Dr., Castro Valley CA 94546&lt;br ...</td>\n",
       "      <td>-122.075602,37.690746,0</td>\n",
       "      <td>Castro Valley (CAST)</td>\n",
       "    </tr>\n",
       "    <tr>\n",
       "      <th>8</th>\n",
       "      <td>CIVC</td>\n",
       "      <td>1150 Market Street, San Francisco CA 94102&lt;br ...</td>\n",
       "      <td>-122.414123,37.779732,0</td>\n",
       "      <td>Civic Center/UN Plaza (CIVC)</td>\n",
       "    </tr>\n",
       "    <tr>\n",
       "      <th>9</th>\n",
       "      <td>COLS</td>\n",
       "      <td>7200 San Leandro St., Oakland CA 94621&lt;br /&gt;We...</td>\n",
       "      <td>-122.196869,37.753661,0</td>\n",
       "      <td>Coliseum/Oakland Airport (COLS)</td>\n",
       "    </tr>\n",
       "    <tr>\n",
       "      <th>10</th>\n",
       "      <td>COLM</td>\n",
       "      <td>365 D Street, Colma CA 94014&lt;br /&gt;The Town of ...</td>\n",
       "      <td>-122.466233,37.684638,0</td>\n",
       "      <td>Colma (COLM)</td>\n",
       "    </tr>\n",
       "    <tr>\n",
       "      <th>11</th>\n",
       "      <td>CONC</td>\n",
       "      <td>1451 Oakland Avenue, Concord CA 94520&lt;br /&gt;Con...</td>\n",
       "      <td>-122.029095,37.973737,0</td>\n",
       "      <td>Concord (CONC)</td>\n",
       "    </tr>\n",
       "    <tr>\n",
       "      <th>12</th>\n",
       "      <td>DALY</td>\n",
       "      <td>500 John Daly Blvd., Daly City CA 94014&lt;br /&gt;D...</td>\n",
       "      <td>-122.469081,37.706121,0</td>\n",
       "      <td>Daly City (DALY)</td>\n",
       "    </tr>\n",
       "    <tr>\n",
       "      <th>13</th>\n",
       "      <td>DBRK</td>\n",
       "      <td>2160 Shattuck Avenue, Berkeley CA 94704&lt;br /&gt;T...</td>\n",
       "      <td>-122.268133,37.870104,0</td>\n",
       "      <td>Downtown Berkeley (DBRK)</td>\n",
       "    </tr>\n",
       "    <tr>\n",
       "      <th>14</th>\n",
       "      <td>DELN</td>\n",
       "      <td>6400 Cutting Blvd., El Cerrito CA 94530&lt;br /&gt;S...</td>\n",
       "      <td>-122.316794,37.925086,0</td>\n",
       "      <td>El Cerrito del Norte (DELN)</td>\n",
       "    </tr>\n",
       "    <tr>\n",
       "      <th>15</th>\n",
       "      <td>DUBL</td>\n",
       "      <td>5801 Owens Dr., Pleasanton CA 94588&lt;br /&gt;This ...</td>\n",
       "      <td>-121.899179,37.701687,0</td>\n",
       "      <td>Dublin/Pleasanton (DUBL)</td>\n",
       "    </tr>\n",
       "    <tr>\n",
       "      <th>16</th>\n",
       "      <td>EMBR</td>\n",
       "      <td>298 Market Street, San Francisco CA 94111&lt;br /...</td>\n",
       "      <td>-122.397020,37.792874,0</td>\n",
       "      <td>Embarcadero (EMBR)</td>\n",
       "    </tr>\n",
       "    <tr>\n",
       "      <th>17</th>\n",
       "      <td>FRMT</td>\n",
       "      <td>2000 BART Way, Fremont CA 94536&lt;br /&gt;Fremont S...</td>\n",
       "      <td>-121.976608,37.557465,0</td>\n",
       "      <td>Fremont (FRMT)</td>\n",
       "    </tr>\n",
       "    <tr>\n",
       "      <th>18</th>\n",
       "      <td>FTVL</td>\n",
       "      <td>3401 East 12th Street, Oakland CA 94601&lt;br /&gt;O...</td>\n",
       "      <td>-122.224175,37.774836,0</td>\n",
       "      <td>Fruitvale (FTVL)</td>\n",
       "    </tr>\n",
       "    <tr>\n",
       "      <th>19</th>\n",
       "      <td>GLEN</td>\n",
       "      <td>2901 Diamond Street, San Francisco CA 94131&lt;br...</td>\n",
       "      <td>-122.433817,37.733064,0</td>\n",
       "      <td>Glen Park (GLEN)</td>\n",
       "    </tr>\n",
       "    <tr>\n",
       "      <th>20</th>\n",
       "      <td>HAYW</td>\n",
       "      <td>699 'B' Street, Hayward CA 94541&lt;br /&gt;The City...</td>\n",
       "      <td>-122.087018,37.669723,0</td>\n",
       "      <td>Hayward (HAYW)</td>\n",
       "    </tr>\n",
       "    <tr>\n",
       "      <th>21</th>\n",
       "      <td>LAFY</td>\n",
       "      <td>3601 Deer Hill Road, Lafayette CA 94549&lt;br /&gt;C...</td>\n",
       "      <td>-122.124630,37.893176,0</td>\n",
       "      <td>Lafayette (LAFY)</td>\n",
       "    </tr>\n",
       "    <tr>\n",
       "      <th>22</th>\n",
       "      <td>LAKE</td>\n",
       "      <td>800 Madison Street, Oakland CA 94607&lt;br /&gt;Lake...</td>\n",
       "      <td>-122.265180,37.797027,0</td>\n",
       "      <td>Lake Merritt (LAKE)</td>\n",
       "    </tr>\n",
       "    <tr>\n",
       "      <th>23</th>\n",
       "      <td>MCAR</td>\n",
       "      <td>555 40th Street, Oakland CA 94609&lt;br /&gt;MacArth...</td>\n",
       "      <td>-122.267040,37.829065,0</td>\n",
       "      <td>MacArthur (MCAR)</td>\n",
       "    </tr>\n",
       "    <tr>\n",
       "      <th>24</th>\n",
       "      <td>MLBR</td>\n",
       "      <td>200 North Rollins Road, Millbrae CA 94030&lt;br /...</td>\n",
       "      <td>-122.386702,37.600271,0</td>\n",
       "      <td>Millbrae (MLBR)</td>\n",
       "    </tr>\n",
       "    <tr>\n",
       "      <th>25</th>\n",
       "      <td>MONT</td>\n",
       "      <td>598 Market Street, San Francisco CA 94104&lt;br /...</td>\n",
       "      <td>-122.401066,37.789405,0</td>\n",
       "      <td>Montgomery St. (MONT)</td>\n",
       "    </tr>\n",
       "    <tr>\n",
       "      <th>26</th>\n",
       "      <td>NBRK</td>\n",
       "      <td>1750 Sacramento Street, Berkeley CA 94702&lt;br /...</td>\n",
       "      <td>-122.283440,37.873967,0</td>\n",
       "      <td>North Berkeley (NBRK)</td>\n",
       "    </tr>\n",
       "    <tr>\n",
       "      <th>27</th>\n",
       "      <td>NCON</td>\n",
       "      <td>3700 Port Chicago Highway, Concord CA 94520&lt;br...</td>\n",
       "      <td>-122.024653,38.003193,0</td>\n",
       "      <td>North Concord/Martinez (NCON)</td>\n",
       "    </tr>\n",
       "    <tr>\n",
       "      <th>28</th>\n",
       "      <td>OAKL</td>\n",
       "      <td>1 Airport Drive, Oakland CA 94621&lt;br /&gt;Located...</td>\n",
       "      <td>-122.212191,37.713238,0</td>\n",
       "      <td>Oakland Airport (OAKL)</td>\n",
       "    </tr>\n",
       "    <tr>\n",
       "      <th>29</th>\n",
       "      <td>ORIN</td>\n",
       "      <td>11 Camino Pablo, Orinda CA 94563&lt;br /&gt;Original...</td>\n",
       "      <td>-122.183791,37.878361,0</td>\n",
       "      <td>Orinda (ORIN)</td>\n",
       "    </tr>\n",
       "    <tr>\n",
       "      <th>30</th>\n",
       "      <td>PHIL</td>\n",
       "      <td>1365 Treat Blvd., Walnut Creek CA 94597&lt;br /&gt;B...</td>\n",
       "      <td>-122.056012,37.928468,0</td>\n",
       "      <td>Pleasant Hill/Contra Costa Centre (PHIL)</td>\n",
       "    </tr>\n",
       "    <tr>\n",
       "      <th>31</th>\n",
       "      <td>PITT</td>\n",
       "      <td>1700 West Leland Road, Pittsburg CA 94565&lt;br /...</td>\n",
       "      <td>-121.945154,38.018914,0</td>\n",
       "      <td>Pittsburg/Bay Point (PITT)</td>\n",
       "    </tr>\n",
       "    <tr>\n",
       "      <th>32</th>\n",
       "      <td>PLZA</td>\n",
       "      <td>6699 Fairmount Avenue, El Cerrito CA 94530&lt;br ...</td>\n",
       "      <td>-122.298904,37.902632,0</td>\n",
       "      <td>El Cerrito Plaza (PLZA)</td>\n",
       "    </tr>\n",
       "    <tr>\n",
       "      <th>33</th>\n",
       "      <td>POWL</td>\n",
       "      <td>899 Market Street, San Francisco CA 94102&lt;br /...</td>\n",
       "      <td>-122.407974,37.784471,0</td>\n",
       "      <td>Powell St. (POWL)</td>\n",
       "    </tr>\n",
       "    <tr>\n",
       "      <th>34</th>\n",
       "      <td>RICH</td>\n",
       "      <td>1700 Nevin Avenue, Richmond CA 94801&lt;br /&gt;Thre...</td>\n",
       "      <td>-122.353099,37.936853,0</td>\n",
       "      <td>Richmond (RICH)</td>\n",
       "    </tr>\n",
       "    <tr>\n",
       "      <th>35</th>\n",
       "      <td>ROCK</td>\n",
       "      <td>5660 College Avenue, Oakland CA 94618&lt;br /&gt;Nam...</td>\n",
       "      <td>-122.251371,37.844702,0</td>\n",
       "      <td>Rockridge (ROCK)</td>\n",
       "    </tr>\n",
       "    <tr>\n",
       "      <th>36</th>\n",
       "      <td>SANL</td>\n",
       "      <td>1401 San Leandro Blvd., San Leandro CA 94577&lt;b...</td>\n",
       "      <td>-122.160844,37.721947,0</td>\n",
       "      <td>San Leandro (SANL)</td>\n",
       "    </tr>\n",
       "    <tr>\n",
       "      <th>37</th>\n",
       "      <td>SBRN</td>\n",
       "      <td>1151 Huntington Avenue, San Bruno CA 94066&lt;br ...</td>\n",
       "      <td>-122.416287,37.637761,0</td>\n",
       "      <td>San Bruno (SBRN)</td>\n",
       "    </tr>\n",
       "    <tr>\n",
       "      <th>38</th>\n",
       "      <td>SFIA</td>\n",
       "      <td>International Terminal, Level 3, San Francisco...</td>\n",
       "      <td>-122.392409,37.615966,0</td>\n",
       "      <td>San Francisco Int'l Airport (SFIA)</td>\n",
       "    </tr>\n",
       "    <tr>\n",
       "      <th>39</th>\n",
       "      <td>SHAY</td>\n",
       "      <td>28601 Dixon Street, Hayward CA 94544&lt;br /&gt;Hayw...</td>\n",
       "      <td>-122.057189,37.634375,0</td>\n",
       "      <td>South Hayward (SHAY)</td>\n",
       "    </tr>\n",
       "    <tr>\n",
       "      <th>40</th>\n",
       "      <td>SSAN</td>\n",
       "      <td>1333 Mission Road, South San Francisco CA 9408...</td>\n",
       "      <td>-122.443960,37.664245,0</td>\n",
       "      <td>South San Francisco (SSAN)</td>\n",
       "    </tr>\n",
       "    <tr>\n",
       "      <th>41</th>\n",
       "      <td>UCTY</td>\n",
       "      <td>10 Union Square, Union City CA 94587&lt;br /&gt;Inco...</td>\n",
       "      <td>-122.017388,37.590630,0</td>\n",
       "      <td>Union City (UCTY)</td>\n",
       "    </tr>\n",
       "    <tr>\n",
       "      <th>42</th>\n",
       "      <td>WARM</td>\n",
       "      <td>45193 Warm Springs Blvd, Fremont, CA 94539&lt;br ...</td>\n",
       "      <td>-121.939313,37.502171,0</td>\n",
       "      <td>Warm Springs/South Fremont (WARM)</td>\n",
       "    </tr>\n",
       "    <tr>\n",
       "      <th>43</th>\n",
       "      <td>WCRK</td>\n",
       "      <td>200 Ygnacio Valley Road, Walnut Creek CA 94596...</td>\n",
       "      <td>-122.067527,37.905522,0</td>\n",
       "      <td>Walnut Creek (WCRK)</td>\n",
       "    </tr>\n",
       "    <tr>\n",
       "      <th>44</th>\n",
       "      <td>WDUB</td>\n",
       "      <td>6501 Golden Gate Drive, Dublin CA 94568&lt;br /&gt;T...</td>\n",
       "      <td>-121.928240,37.699756,0</td>\n",
       "      <td>West Dublin/Pleasanton (WDUB)</td>\n",
       "    </tr>\n",
       "    <tr>\n",
       "      <th>45</th>\n",
       "      <td>WOAK</td>\n",
       "      <td>1451 7th Street, Oakland CA 94607&lt;br /&gt;The Wes...</td>\n",
       "      <td>-122.295140,37.804872,0</td>\n",
       "      <td>West Oakland (WOAK)</td>\n",
       "    </tr>\n",
       "  </tbody>\n",
       "</table>\n",
       "</div>"
      ],
      "text/plain": [
       "   Abbreviation                                        Description  \\\n",
       "0          12TH  1245 Broadway, Oakland CA 94612<br />12th St. ...   \n",
       "1          16TH  2000 Mission Street, San Francisco CA 94110<br...   \n",
       "2          19TH  1900 Broadway, Oakland CA 94612<br />19th Stre...   \n",
       "3          24TH  2800 Mission Street, San Francisco CA 94110<br...   \n",
       "4          ASHB  3100 Adeline Street, Berkeley CA 94703<br />As...   \n",
       "5          BALB  401 Geneva Avenue, San Francisco CA 94112<br /...   \n",
       "6          BAYF  15242 Hesperian Blvd., San Leandro CA 94578<br...   \n",
       "7          CAST  3301 Norbridge Dr., Castro Valley CA 94546<br ...   \n",
       "8          CIVC  1150 Market Street, San Francisco CA 94102<br ...   \n",
       "9          COLS  7200 San Leandro St., Oakland CA 94621<br />We...   \n",
       "10         COLM  365 D Street, Colma CA 94014<br />The Town of ...   \n",
       "11         CONC  1451 Oakland Avenue, Concord CA 94520<br />Con...   \n",
       "12         DALY  500 John Daly Blvd., Daly City CA 94014<br />D...   \n",
       "13         DBRK  2160 Shattuck Avenue, Berkeley CA 94704<br />T...   \n",
       "14         DELN  6400 Cutting Blvd., El Cerrito CA 94530<br />S...   \n",
       "15         DUBL  5801 Owens Dr., Pleasanton CA 94588<br />This ...   \n",
       "16         EMBR  298 Market Street, San Francisco CA 94111<br /...   \n",
       "17         FRMT  2000 BART Way, Fremont CA 94536<br />Fremont S...   \n",
       "18         FTVL  3401 East 12th Street, Oakland CA 94601<br />O...   \n",
       "19         GLEN  2901 Diamond Street, San Francisco CA 94131<br...   \n",
       "20         HAYW  699 'B' Street, Hayward CA 94541<br />The City...   \n",
       "21         LAFY  3601 Deer Hill Road, Lafayette CA 94549<br />C...   \n",
       "22         LAKE  800 Madison Street, Oakland CA 94607<br />Lake...   \n",
       "23         MCAR  555 40th Street, Oakland CA 94609<br />MacArth...   \n",
       "24         MLBR  200 North Rollins Road, Millbrae CA 94030<br /...   \n",
       "25         MONT  598 Market Street, San Francisco CA 94104<br /...   \n",
       "26         NBRK  1750 Sacramento Street, Berkeley CA 94702<br /...   \n",
       "27         NCON  3700 Port Chicago Highway, Concord CA 94520<br...   \n",
       "28         OAKL  1 Airport Drive, Oakland CA 94621<br />Located...   \n",
       "29         ORIN  11 Camino Pablo, Orinda CA 94563<br />Original...   \n",
       "30         PHIL  1365 Treat Blvd., Walnut Creek CA 94597<br />B...   \n",
       "31         PITT  1700 West Leland Road, Pittsburg CA 94565<br /...   \n",
       "32         PLZA  6699 Fairmount Avenue, El Cerrito CA 94530<br ...   \n",
       "33         POWL  899 Market Street, San Francisco CA 94102<br /...   \n",
       "34         RICH  1700 Nevin Avenue, Richmond CA 94801<br />Thre...   \n",
       "35         ROCK  5660 College Avenue, Oakland CA 94618<br />Nam...   \n",
       "36         SANL  1401 San Leandro Blvd., San Leandro CA 94577<b...   \n",
       "37         SBRN  1151 Huntington Avenue, San Bruno CA 94066<br ...   \n",
       "38         SFIA  International Terminal, Level 3, San Francisco...   \n",
       "39         SHAY  28601 Dixon Street, Hayward CA 94544<br />Hayw...   \n",
       "40         SSAN  1333 Mission Road, South San Francisco CA 9408...   \n",
       "41         UCTY  10 Union Square, Union City CA 94587<br />Inco...   \n",
       "42         WARM  45193 Warm Springs Blvd, Fremont, CA 94539<br ...   \n",
       "43         WCRK  200 Ygnacio Valley Road, Walnut Creek CA 94596...   \n",
       "44         WDUB  6501 Golden Gate Drive, Dublin CA 94568<br />T...   \n",
       "45         WOAK  1451 7th Street, Oakland CA 94607<br />The Wes...   \n",
       "\n",
       "                   Location                                      Name  \n",
       "0   -122.271450,37.803768,0       12th St. Oakland City Center (12TH)  \n",
       "1   -122.419694,37.765062,0                   16th St. Mission (16TH)  \n",
       "2   -122.268602,37.808350,0                   19th St. Oakland (19TH)  \n",
       "3   -122.418143,37.752470,0                   24th St. Mission (24TH)  \n",
       "4   -122.270062,37.852803,0                              Ashby (ASHB)  \n",
       "5   -122.447506,37.721585,0                        Balboa Park (BALB)  \n",
       "6   -122.126514,37.696924,0                           Bay Fair (BAYF)  \n",
       "7   -122.075602,37.690746,0                      Castro Valley (CAST)  \n",
       "8   -122.414123,37.779732,0              Civic Center/UN Plaza (CIVC)  \n",
       "9   -122.196869,37.753661,0           Coliseum/Oakland Airport (COLS)  \n",
       "10  -122.466233,37.684638,0                              Colma (COLM)  \n",
       "11  -122.029095,37.973737,0                            Concord (CONC)  \n",
       "12  -122.469081,37.706121,0                          Daly City (DALY)  \n",
       "13  -122.268133,37.870104,0                  Downtown Berkeley (DBRK)  \n",
       "14  -122.316794,37.925086,0               El Cerrito del Norte (DELN)  \n",
       "15  -121.899179,37.701687,0                  Dublin/Pleasanton (DUBL)  \n",
       "16  -122.397020,37.792874,0                        Embarcadero (EMBR)  \n",
       "17  -121.976608,37.557465,0                            Fremont (FRMT)  \n",
       "18  -122.224175,37.774836,0                          Fruitvale (FTVL)  \n",
       "19  -122.433817,37.733064,0                          Glen Park (GLEN)  \n",
       "20  -122.087018,37.669723,0                            Hayward (HAYW)  \n",
       "21  -122.124630,37.893176,0                          Lafayette (LAFY)  \n",
       "22  -122.265180,37.797027,0                       Lake Merritt (LAKE)  \n",
       "23  -122.267040,37.829065,0                          MacArthur (MCAR)  \n",
       "24  -122.386702,37.600271,0                           Millbrae (MLBR)  \n",
       "25  -122.401066,37.789405,0                     Montgomery St. (MONT)  \n",
       "26  -122.283440,37.873967,0                     North Berkeley (NBRK)  \n",
       "27  -122.024653,38.003193,0             North Concord/Martinez (NCON)  \n",
       "28  -122.212191,37.713238,0                    Oakland Airport (OAKL)  \n",
       "29  -122.183791,37.878361,0                             Orinda (ORIN)  \n",
       "30  -122.056012,37.928468,0  Pleasant Hill/Contra Costa Centre (PHIL)  \n",
       "31  -121.945154,38.018914,0                Pittsburg/Bay Point (PITT)  \n",
       "32  -122.298904,37.902632,0                   El Cerrito Plaza (PLZA)  \n",
       "33  -122.407974,37.784471,0                         Powell St. (POWL)  \n",
       "34  -122.353099,37.936853,0                           Richmond (RICH)  \n",
       "35  -122.251371,37.844702,0                          Rockridge (ROCK)  \n",
       "36  -122.160844,37.721947,0                        San Leandro (SANL)  \n",
       "37  -122.416287,37.637761,0                          San Bruno (SBRN)  \n",
       "38  -122.392409,37.615966,0        San Francisco Int'l Airport (SFIA)  \n",
       "39  -122.057189,37.634375,0                      South Hayward (SHAY)  \n",
       "40  -122.443960,37.664245,0                South San Francisco (SSAN)  \n",
       "41  -122.017388,37.590630,0                         Union City (UCTY)  \n",
       "42  -121.939313,37.502171,0         Warm Springs/South Fremont (WARM)  \n",
       "43  -122.067527,37.905522,0                       Walnut Creek (WCRK)  \n",
       "44  -121.928240,37.699756,0             West Dublin/Pleasanton (WDUB)  \n",
       "45  -122.295140,37.804872,0                       West Oakland (WOAK)  "
      ]
     },
     "execution_count": 3,
     "metadata": {},
     "output_type": "execute_result"
    }
   ],
   "source": [
    "df1"
   ]
  },
  {
   "cell_type": "code",
   "execution_count": 4,
   "id": "19063959",
   "metadata": {},
   "outputs": [
    {
     "data": {
      "text/html": [
       "<div>\n",
       "<style scoped>\n",
       "    .dataframe tbody tr th:only-of-type {\n",
       "        vertical-align: middle;\n",
       "    }\n",
       "\n",
       "    .dataframe tbody tr th {\n",
       "        vertical-align: top;\n",
       "    }\n",
       "\n",
       "    .dataframe thead th {\n",
       "        text-align: right;\n",
       "    }\n",
       "</style>\n",
       "<table border=\"1\" class=\"dataframe\">\n",
       "  <thead>\n",
       "    <tr style=\"text-align: right;\">\n",
       "      <th></th>\n",
       "      <th>Origin</th>\n",
       "      <th>Destination</th>\n",
       "      <th>Throughput</th>\n",
       "      <th>DateTime</th>\n",
       "    </tr>\n",
       "  </thead>\n",
       "  <tbody>\n",
       "    <tr>\n",
       "      <th>0</th>\n",
       "      <td>12TH</td>\n",
       "      <td>12TH</td>\n",
       "      <td>1</td>\n",
       "      <td>2016-01-01 00:00:00</td>\n",
       "    </tr>\n",
       "    <tr>\n",
       "      <th>1</th>\n",
       "      <td>12TH</td>\n",
       "      <td>16TH</td>\n",
       "      <td>1</td>\n",
       "      <td>2016-01-01 00:00:00</td>\n",
       "    </tr>\n",
       "    <tr>\n",
       "      <th>2</th>\n",
       "      <td>12TH</td>\n",
       "      <td>24TH</td>\n",
       "      <td>4</td>\n",
       "      <td>2016-01-01 00:00:00</td>\n",
       "    </tr>\n",
       "    <tr>\n",
       "      <th>3</th>\n",
       "      <td>12TH</td>\n",
       "      <td>ASHB</td>\n",
       "      <td>4</td>\n",
       "      <td>2016-01-01 00:00:00</td>\n",
       "    </tr>\n",
       "    <tr>\n",
       "      <th>4</th>\n",
       "      <td>12TH</td>\n",
       "      <td>BALB</td>\n",
       "      <td>2</td>\n",
       "      <td>2016-01-01 00:00:00</td>\n",
       "    </tr>\n",
       "    <tr>\n",
       "      <th>...</th>\n",
       "      <td>...</td>\n",
       "      <td>...</td>\n",
       "      <td>...</td>\n",
       "      <td>...</td>\n",
       "    </tr>\n",
       "    <tr>\n",
       "      <th>9971577</th>\n",
       "      <td>WOAK</td>\n",
       "      <td>PLZA</td>\n",
       "      <td>1</td>\n",
       "      <td>2016-12-31 23:00:00</td>\n",
       "    </tr>\n",
       "    <tr>\n",
       "      <th>9971578</th>\n",
       "      <td>WOAK</td>\n",
       "      <td>POWL</td>\n",
       "      <td>30</td>\n",
       "      <td>2016-12-31 23:00:00</td>\n",
       "    </tr>\n",
       "    <tr>\n",
       "      <th>9971579</th>\n",
       "      <td>WOAK</td>\n",
       "      <td>RICH</td>\n",
       "      <td>2</td>\n",
       "      <td>2016-12-31 23:00:00</td>\n",
       "    </tr>\n",
       "    <tr>\n",
       "      <th>9971580</th>\n",
       "      <td>WOAK</td>\n",
       "      <td>ROCK</td>\n",
       "      <td>2</td>\n",
       "      <td>2016-12-31 23:00:00</td>\n",
       "    </tr>\n",
       "    <tr>\n",
       "      <th>9971581</th>\n",
       "      <td>WOAK</td>\n",
       "      <td>WOAK</td>\n",
       "      <td>1</td>\n",
       "      <td>2016-12-31 23:00:00</td>\n",
       "    </tr>\n",
       "  </tbody>\n",
       "</table>\n",
       "<p>9971582 rows × 4 columns</p>\n",
       "</div>"
      ],
      "text/plain": [
       "        Origin Destination  Throughput             DateTime\n",
       "0         12TH        12TH           1  2016-01-01 00:00:00\n",
       "1         12TH        16TH           1  2016-01-01 00:00:00\n",
       "2         12TH        24TH           4  2016-01-01 00:00:00\n",
       "3         12TH        ASHB           4  2016-01-01 00:00:00\n",
       "4         12TH        BALB           2  2016-01-01 00:00:00\n",
       "...        ...         ...         ...                  ...\n",
       "9971577   WOAK        PLZA           1  2016-12-31 23:00:00\n",
       "9971578   WOAK        POWL          30  2016-12-31 23:00:00\n",
       "9971579   WOAK        RICH           2  2016-12-31 23:00:00\n",
       "9971580   WOAK        ROCK           2  2016-12-31 23:00:00\n",
       "9971581   WOAK        WOAK           1  2016-12-31 23:00:00\n",
       "\n",
       "[9971582 rows x 4 columns]"
      ]
     },
     "execution_count": 4,
     "metadata": {},
     "output_type": "execute_result"
    }
   ],
   "source": [
    "df2"
   ]
  },
  {
   "cell_type": "code",
   "execution_count": 5,
   "id": "a55df331",
   "metadata": {},
   "outputs": [
    {
     "data": {
      "text/html": [
       "<div>\n",
       "<style scoped>\n",
       "    .dataframe tbody tr th:only-of-type {\n",
       "        vertical-align: middle;\n",
       "    }\n",
       "\n",
       "    .dataframe tbody tr th {\n",
       "        vertical-align: top;\n",
       "    }\n",
       "\n",
       "    .dataframe thead th {\n",
       "        text-align: right;\n",
       "    }\n",
       "</style>\n",
       "<table border=\"1\" class=\"dataframe\">\n",
       "  <thead>\n",
       "    <tr style=\"text-align: right;\">\n",
       "      <th></th>\n",
       "      <th>Origin</th>\n",
       "      <th>Destination</th>\n",
       "      <th>Throughput</th>\n",
       "      <th>DateTime</th>\n",
       "    </tr>\n",
       "  </thead>\n",
       "  <tbody>\n",
       "    <tr>\n",
       "      <th>0</th>\n",
       "      <td>12TH</td>\n",
       "      <td>19TH</td>\n",
       "      <td>1</td>\n",
       "      <td>2017-01-01 00:00:00</td>\n",
       "    </tr>\n",
       "    <tr>\n",
       "      <th>1</th>\n",
       "      <td>12TH</td>\n",
       "      <td>24TH</td>\n",
       "      <td>2</td>\n",
       "      <td>2017-01-01 00:00:00</td>\n",
       "    </tr>\n",
       "    <tr>\n",
       "      <th>2</th>\n",
       "      <td>12TH</td>\n",
       "      <td>BAYF</td>\n",
       "      <td>1</td>\n",
       "      <td>2017-01-01 00:00:00</td>\n",
       "    </tr>\n",
       "    <tr>\n",
       "      <th>3</th>\n",
       "      <td>12TH</td>\n",
       "      <td>CIVC</td>\n",
       "      <td>5</td>\n",
       "      <td>2017-01-01 00:00:00</td>\n",
       "    </tr>\n",
       "    <tr>\n",
       "      <th>4</th>\n",
       "      <td>12TH</td>\n",
       "      <td>COLS</td>\n",
       "      <td>2</td>\n",
       "      <td>2017-01-01 00:00:00</td>\n",
       "    </tr>\n",
       "    <tr>\n",
       "      <th>...</th>\n",
       "      <td>...</td>\n",
       "      <td>...</td>\n",
       "      <td>...</td>\n",
       "      <td>...</td>\n",
       "    </tr>\n",
       "    <tr>\n",
       "      <th>3313620</th>\n",
       "      <td>WSPR</td>\n",
       "      <td>MONT</td>\n",
       "      <td>1</td>\n",
       "      <td>2017-05-03 23:00:00</td>\n",
       "    </tr>\n",
       "    <tr>\n",
       "      <th>3313621</th>\n",
       "      <td>WSPR</td>\n",
       "      <td>NBRK</td>\n",
       "      <td>1</td>\n",
       "      <td>2017-05-03 23:00:00</td>\n",
       "    </tr>\n",
       "    <tr>\n",
       "      <th>3313622</th>\n",
       "      <td>WSPR</td>\n",
       "      <td>NCON</td>\n",
       "      <td>1</td>\n",
       "      <td>2017-05-03 23:00:00</td>\n",
       "    </tr>\n",
       "    <tr>\n",
       "      <th>3313623</th>\n",
       "      <td>WSPR</td>\n",
       "      <td>SANL</td>\n",
       "      <td>2</td>\n",
       "      <td>2017-05-03 23:00:00</td>\n",
       "    </tr>\n",
       "    <tr>\n",
       "      <th>3313624</th>\n",
       "      <td>WSPR</td>\n",
       "      <td>SHAY</td>\n",
       "      <td>4</td>\n",
       "      <td>2017-05-03 23:00:00</td>\n",
       "    </tr>\n",
       "  </tbody>\n",
       "</table>\n",
       "<p>3313625 rows × 4 columns</p>\n",
       "</div>"
      ],
      "text/plain": [
       "        Origin Destination  Throughput             DateTime\n",
       "0         12TH        19TH           1  2017-01-01 00:00:00\n",
       "1         12TH        24TH           2  2017-01-01 00:00:00\n",
       "2         12TH        BAYF           1  2017-01-01 00:00:00\n",
       "3         12TH        CIVC           5  2017-01-01 00:00:00\n",
       "4         12TH        COLS           2  2017-01-01 00:00:00\n",
       "...        ...         ...         ...                  ...\n",
       "3313620   WSPR        MONT           1  2017-05-03 23:00:00\n",
       "3313621   WSPR        NBRK           1  2017-05-03 23:00:00\n",
       "3313622   WSPR        NCON           1  2017-05-03 23:00:00\n",
       "3313623   WSPR        SANL           2  2017-05-03 23:00:00\n",
       "3313624   WSPR        SHAY           4  2017-05-03 23:00:00\n",
       "\n",
       "[3313625 rows x 4 columns]"
      ]
     },
     "execution_count": 5,
     "metadata": {},
     "output_type": "execute_result"
    }
   ],
   "source": [
    "df3"
   ]
  },
  {
   "cell_type": "code",
   "execution_count": 6,
   "id": "41fe7d04",
   "metadata": {},
   "outputs": [],
   "source": [
    "df=pd.concat([df2,df3])"
   ]
  },
  {
   "cell_type": "code",
   "execution_count": 7,
   "id": "b5f68e6c",
   "metadata": {},
   "outputs": [
    {
     "data": {
      "text/html": [
       "<div>\n",
       "<style scoped>\n",
       "    .dataframe tbody tr th:only-of-type {\n",
       "        vertical-align: middle;\n",
       "    }\n",
       "\n",
       "    .dataframe tbody tr th {\n",
       "        vertical-align: top;\n",
       "    }\n",
       "\n",
       "    .dataframe thead th {\n",
       "        text-align: right;\n",
       "    }\n",
       "</style>\n",
       "<table border=\"1\" class=\"dataframe\">\n",
       "  <thead>\n",
       "    <tr style=\"text-align: right;\">\n",
       "      <th></th>\n",
       "      <th>Origin</th>\n",
       "      <th>Destination</th>\n",
       "      <th>Throughput</th>\n",
       "      <th>DateTime</th>\n",
       "    </tr>\n",
       "  </thead>\n",
       "  <tbody>\n",
       "    <tr>\n",
       "      <th>0</th>\n",
       "      <td>12TH</td>\n",
       "      <td>12TH</td>\n",
       "      <td>1</td>\n",
       "      <td>2016-01-01 00:00:00</td>\n",
       "    </tr>\n",
       "    <tr>\n",
       "      <th>1</th>\n",
       "      <td>12TH</td>\n",
       "      <td>16TH</td>\n",
       "      <td>1</td>\n",
       "      <td>2016-01-01 00:00:00</td>\n",
       "    </tr>\n",
       "    <tr>\n",
       "      <th>2</th>\n",
       "      <td>12TH</td>\n",
       "      <td>24TH</td>\n",
       "      <td>4</td>\n",
       "      <td>2016-01-01 00:00:00</td>\n",
       "    </tr>\n",
       "    <tr>\n",
       "      <th>3</th>\n",
       "      <td>12TH</td>\n",
       "      <td>ASHB</td>\n",
       "      <td>4</td>\n",
       "      <td>2016-01-01 00:00:00</td>\n",
       "    </tr>\n",
       "    <tr>\n",
       "      <th>4</th>\n",
       "      <td>12TH</td>\n",
       "      <td>BALB</td>\n",
       "      <td>2</td>\n",
       "      <td>2016-01-01 00:00:00</td>\n",
       "    </tr>\n",
       "    <tr>\n",
       "      <th>...</th>\n",
       "      <td>...</td>\n",
       "      <td>...</td>\n",
       "      <td>...</td>\n",
       "      <td>...</td>\n",
       "    </tr>\n",
       "    <tr>\n",
       "      <th>3313620</th>\n",
       "      <td>WSPR</td>\n",
       "      <td>MONT</td>\n",
       "      <td>1</td>\n",
       "      <td>2017-05-03 23:00:00</td>\n",
       "    </tr>\n",
       "    <tr>\n",
       "      <th>3313621</th>\n",
       "      <td>WSPR</td>\n",
       "      <td>NBRK</td>\n",
       "      <td>1</td>\n",
       "      <td>2017-05-03 23:00:00</td>\n",
       "    </tr>\n",
       "    <tr>\n",
       "      <th>3313622</th>\n",
       "      <td>WSPR</td>\n",
       "      <td>NCON</td>\n",
       "      <td>1</td>\n",
       "      <td>2017-05-03 23:00:00</td>\n",
       "    </tr>\n",
       "    <tr>\n",
       "      <th>3313623</th>\n",
       "      <td>WSPR</td>\n",
       "      <td>SANL</td>\n",
       "      <td>2</td>\n",
       "      <td>2017-05-03 23:00:00</td>\n",
       "    </tr>\n",
       "    <tr>\n",
       "      <th>3313624</th>\n",
       "      <td>WSPR</td>\n",
       "      <td>SHAY</td>\n",
       "      <td>4</td>\n",
       "      <td>2017-05-03 23:00:00</td>\n",
       "    </tr>\n",
       "  </tbody>\n",
       "</table>\n",
       "<p>13285207 rows × 4 columns</p>\n",
       "</div>"
      ],
      "text/plain": [
       "        Origin Destination  Throughput             DateTime\n",
       "0         12TH        12TH           1  2016-01-01 00:00:00\n",
       "1         12TH        16TH           1  2016-01-01 00:00:00\n",
       "2         12TH        24TH           4  2016-01-01 00:00:00\n",
       "3         12TH        ASHB           4  2016-01-01 00:00:00\n",
       "4         12TH        BALB           2  2016-01-01 00:00:00\n",
       "...        ...         ...         ...                  ...\n",
       "3313620   WSPR        MONT           1  2017-05-03 23:00:00\n",
       "3313621   WSPR        NBRK           1  2017-05-03 23:00:00\n",
       "3313622   WSPR        NCON           1  2017-05-03 23:00:00\n",
       "3313623   WSPR        SANL           2  2017-05-03 23:00:00\n",
       "3313624   WSPR        SHAY           4  2017-05-03 23:00:00\n",
       "\n",
       "[13285207 rows x 4 columns]"
      ]
     },
     "execution_count": 7,
     "metadata": {},
     "output_type": "execute_result"
    }
   ],
   "source": [
    "df"
   ]
  },
  {
   "cell_type": "code",
   "execution_count": 8,
   "id": "6a8b9a1a",
   "metadata": {},
   "outputs": [
    {
     "data": {
      "text/plain": [
       "388404    2016-01-15 17:00:00\n",
       "388404    2017-01-16 11:00:00\n",
       "Name: DateTime, dtype: object"
      ]
     },
     "execution_count": 8,
     "metadata": {},
     "output_type": "execute_result"
    }
   ],
   "source": [
    "df['DateTime'][388404]"
   ]
  },
  {
   "cell_type": "code",
   "execution_count": 9,
   "id": "cea4b8e1",
   "metadata": {},
   "outputs": [],
   "source": [
    "df['DateTime']=pd.to_datetime(df['DateTime'])"
   ]
  },
  {
   "cell_type": "code",
   "execution_count": 10,
   "id": "bf066d43",
   "metadata": {},
   "outputs": [],
   "source": [
    "df['Year']=df['DateTime'].dt.year\n",
    "df['Month']=df['DateTime'].dt.month\n",
    "df['Day']=df['DateTime'].dt.day\n",
    "df['Hour']=df['DateTime'].dt.hour"
   ]
  },
  {
   "cell_type": "code",
   "execution_count": 11,
   "id": "3f19103e",
   "metadata": {},
   "outputs": [
    {
     "data": {
      "text/plain": [
       "Hour\n",
       "17    809801\n",
       "18    804888\n",
       "16    782497\n",
       "19    745724\n",
       "9     744177\n",
       "15    740063\n",
       "8     735598\n",
       "14    710918\n",
       "10    703916\n",
       "13    700492\n",
       "12    692597\n",
       "11    690495\n",
       "20    659838\n",
       "7     646474\n",
       "21    624812\n",
       "22    588820\n",
       "6     524354\n",
       "23    498531\n",
       "0     356710\n",
       "5     325483\n",
       "1     114376\n",
       "4      81150\n",
       "2       1936\n",
       "3       1557\n",
       "Name: count, dtype: int64"
      ]
     },
     "execution_count": 11,
     "metadata": {},
     "output_type": "execute_result"
    }
   ],
   "source": [
    "df['Hour'].value_counts()"
   ]
  },
  {
   "cell_type": "code",
   "execution_count": 12,
   "id": "73c2104b",
   "metadata": {},
   "outputs": [
    {
     "data": {
      "text/html": [
       "<div>\n",
       "<style scoped>\n",
       "    .dataframe tbody tr th:only-of-type {\n",
       "        vertical-align: middle;\n",
       "    }\n",
       "\n",
       "    .dataframe tbody tr th {\n",
       "        vertical-align: top;\n",
       "    }\n",
       "\n",
       "    .dataframe thead th {\n",
       "        text-align: right;\n",
       "    }\n",
       "</style>\n",
       "<table border=\"1\" class=\"dataframe\">\n",
       "  <thead>\n",
       "    <tr style=\"text-align: right;\">\n",
       "      <th></th>\n",
       "      <th>Origin</th>\n",
       "      <th>Destination</th>\n",
       "      <th>Throughput</th>\n",
       "      <th>DateTime</th>\n",
       "      <th>Year</th>\n",
       "      <th>Month</th>\n",
       "      <th>Day</th>\n",
       "      <th>Hour</th>\n",
       "    </tr>\n",
       "  </thead>\n",
       "  <tbody>\n",
       "    <tr>\n",
       "      <th>7179609</th>\n",
       "      <td>POWL</td>\n",
       "      <td>DELN</td>\n",
       "      <td>2</td>\n",
       "      <td>2016-09-20 05:00:00</td>\n",
       "      <td>2016</td>\n",
       "      <td>9</td>\n",
       "      <td>20</td>\n",
       "      <td>5</td>\n",
       "    </tr>\n",
       "    <tr>\n",
       "      <th>7369804</th>\n",
       "      <td>19TH</td>\n",
       "      <td>ROCK</td>\n",
       "      <td>2</td>\n",
       "      <td>2016-09-26 22:00:00</td>\n",
       "      <td>2016</td>\n",
       "      <td>9</td>\n",
       "      <td>26</td>\n",
       "      <td>22</td>\n",
       "    </tr>\n",
       "    <tr>\n",
       "      <th>7673578</th>\n",
       "      <td>POWL</td>\n",
       "      <td>LAKE</td>\n",
       "      <td>108</td>\n",
       "      <td>2016-10-07 16:00:00</td>\n",
       "      <td>2016</td>\n",
       "      <td>10</td>\n",
       "      <td>7</td>\n",
       "      <td>16</td>\n",
       "    </tr>\n",
       "    <tr>\n",
       "      <th>1666140</th>\n",
       "      <td>FTVL</td>\n",
       "      <td>DUBL</td>\n",
       "      <td>4</td>\n",
       "      <td>2017-03-04 18:00:00</td>\n",
       "      <td>2017</td>\n",
       "      <td>3</td>\n",
       "      <td>4</td>\n",
       "      <td>18</td>\n",
       "    </tr>\n",
       "    <tr>\n",
       "      <th>2833037</th>\n",
       "      <td>DELN</td>\n",
       "      <td>16TH</td>\n",
       "      <td>1</td>\n",
       "      <td>2017-04-16 23:00:00</td>\n",
       "      <td>2017</td>\n",
       "      <td>4</td>\n",
       "      <td>16</td>\n",
       "      <td>23</td>\n",
       "    </tr>\n",
       "  </tbody>\n",
       "</table>\n",
       "</div>"
      ],
      "text/plain": [
       "        Origin Destination  Throughput            DateTime  Year  Month  Day  \\\n",
       "7179609   POWL        DELN           2 2016-09-20 05:00:00  2016      9   20   \n",
       "7369804   19TH        ROCK           2 2016-09-26 22:00:00  2016      9   26   \n",
       "7673578   POWL        LAKE         108 2016-10-07 16:00:00  2016     10    7   \n",
       "1666140   FTVL        DUBL           4 2017-03-04 18:00:00  2017      3    4   \n",
       "2833037   DELN        16TH           1 2017-04-16 23:00:00  2017      4   16   \n",
       "\n",
       "         Hour  \n",
       "7179609     5  \n",
       "7369804    22  \n",
       "7673578    16  \n",
       "1666140    18  \n",
       "2833037    23  "
      ]
     },
     "execution_count": 12,
     "metadata": {},
     "output_type": "execute_result"
    }
   ],
   "source": [
    "df.sample(5)"
   ]
  },
  {
   "cell_type": "code",
   "execution_count": 13,
   "id": "22f5c4e0",
   "metadata": {},
   "outputs": [
    {
     "data": {
      "text/plain": [
       "Throughput\n",
       "1       3213618\n",
       "2       1953388\n",
       "3       1315879\n",
       "4        952998\n",
       "5        722046\n",
       "         ...   \n",
       "1032          1\n",
       "906           1\n",
       "882           1\n",
       "1000          1\n",
       "848           1\n",
       "Name: count, Length: 950, dtype: int64"
      ]
     },
     "execution_count": 13,
     "metadata": {},
     "output_type": "execute_result"
    }
   ],
   "source": [
    "df['Throughput'].value_counts()  #Yollcu Sayısı"
   ]
  },
  {
   "cell_type": "code",
   "execution_count": 14,
   "id": "aa2c9318",
   "metadata": {},
   "outputs": [
    {
     "data": {
      "text/plain": [
       "Origin\n",
       "MONT    16107314\n",
       "EMBR    15749457\n",
       "POWL    14138322\n",
       "CIVC    10145110\n",
       "24TH     5459492\n",
       "Name: Throughput, dtype: int64"
      ]
     },
     "execution_count": 14,
     "metadata": {},
     "output_type": "execute_result"
    }
   ],
   "source": [
    "#Which BART station is the busiest?   -EMBR\n",
    "df.groupby('Origin')['Throughput'].sum().sort_values(ascending=False).head(5)"
   ]
  },
  {
   "cell_type": "code",
   "execution_count": 15,
   "id": "4b61ad25",
   "metadata": {},
   "outputs": [
    {
     "data": {
      "image/png": "[encoded data removed]",
      "text/plain": [
       "<Figure size 1000x600 with 1 Axes>"
      ]
     },
     "metadata": {},
     "output_type": "display_data"
    }
   ],
   "source": [
    "st=df.groupby('Origin')['Throughput'].sum().sort_values(ascending=False).head(5)\n",
    "plt.figure(figsize=(10, 6))\n",
    "st.plot(kind='bar', color='skyblue')\n",
    "plt.title('Top 5 Busiest BART Stations')\n",
    "plt.xlabel('Station')\n",
    "plt.ylabel('Total Throughput')\n",
    "plt.xticks(rotation=45)\n",
    "plt.tight_layout()"
   ]
  },
  {
   "cell_type": "code",
   "execution_count": 16,
   "id": "f8ef05bc",
   "metadata": {},
   "outputs": [
    {
     "data": {
      "text/plain": [
       "Destination\n",
       "EMBR    18327187\n",
       "MONT    16956581\n",
       "POWL    12454717\n",
       "CIVC     9391593\n",
       "DBRK     5533100\n",
       "Name: Throughput, dtype: int64"
      ]
     },
     "execution_count": 16,
     "metadata": {},
     "output_type": "execute_result"
    }
   ],
   "source": [
    "df.groupby('Destination')['Throughput'].sum().sort_values(ascending=False).head(5)"
   ]
  },
  {
   "cell_type": "code",
   "execution_count": 17,
   "id": "b612969b",
   "metadata": {},
   "outputs": [
    {
     "data": {
      "image/png": "[encoded data removed]",
      "text/plain": [
       "<Figure size 1000x600 with 1 Axes>"
      ]
     },
     "metadata": {},
     "output_type": "display_data"
    }
   ],
   "source": [
    "st=df.groupby('Destination')['Throughput'].sum().sort_values(ascending=False).head(5)\n",
    "plt.figure(figsize=(10, 6))\n",
    "st.plot(kind='bar', color='skyblue')\n",
    "plt.title('Top 5 Busiest BART Stations')\n",
    "plt.xlabel('Station')\n",
    "plt.ylabel('Total Throughput')\n",
    "plt.xticks(rotation=45)\n",
    "plt.tight_layout()"
   ]
  },
  {
   "cell_type": "code",
   "execution_count": 18,
   "id": "a3b246c3",
   "metadata": {},
   "outputs": [
    {
     "data": {
      "text/plain": [
       "Origin  Destination\n",
       "WSPR    SBRN           40\n",
       "SSAN    WSPR           41\n",
       "WSPR    MLBR           42\n",
       "SBRN    WSPR           43\n",
       "MLBR    WSPR           45\n",
       "Name: Throughput, dtype: int64"
      ]
     },
     "execution_count": 18,
     "metadata": {},
     "output_type": "execute_result"
    }
   ],
   "source": [
    "#What is the least popular BART route?    WSPR-SBRN\n",
    "df.groupby(['Origin','Destination'])['Throughput'].sum().sort_values(ascending=True).head(5)"
   ]
  },
  {
   "cell_type": "code",
   "execution_count": 19,
   "id": "fa60e648",
   "metadata": {},
   "outputs": [
    {
     "data": {
      "image/png": "[encoded data removed]",
      "text/plain": [
       "<Figure size 1000x600 with 1 Axes>"
      ]
     },
     "metadata": {},
     "output_type": "display_data"
    }
   ],
   "source": [
    "st=df.groupby(['Origin','Destination'])['Throughput'].sum().sort_values(ascending=True).head(5)\n",
    "plt.figure(figsize=(10, 6))\n",
    "st.plot(kind='bar', color='skyblue')\n",
    "plt.title('Top 5 Busiest BART Stations')\n",
    "plt.xlabel('Station')\n",
    "plt.ylabel('Total Throughput')\n",
    "plt.xticks(rotation=45)\n",
    "plt.tight_layout()"
   ]
  },
  {
   "cell_type": "code",
   "execution_count": 20,
   "id": "a79aea70",
   "metadata": {},
   "outputs": [
    {
     "data": {
      "text/plain": [
       "DateTime\n",
       "2016-04-12 20:00:00    1\n",
       "2016-12-21 14:00:00    1\n",
       "2016-12-21 13:00:00    1\n",
       "2016-12-21 10:00:00    1\n",
       "2016-05-10 12:00:00    1\n",
       "Name: Throughput, dtype: int64"
      ]
     },
     "execution_count": 20,
     "metadata": {},
     "output_type": "execute_result"
    }
   ],
   "source": [
    "#When is the best time to go to SF from Berkeley if you want to find a seat?\n",
    "df[(df['Origin']=='DBRK')&(df['Destination']=='SSAN')].groupby('DateTime')['Throughput'].sum().sort_values(ascending=True).head(5)"
   ]
  },
  {
   "cell_type": "code",
   "execution_count": 21,
   "id": "cc3832fd",
   "metadata": {},
   "outputs": [
    {
     "data": {
      "text/plain": [
       "Year\n",
       "2017     3643\n",
       "2016    12462\n",
       "Name: Throughput, dtype: int64"
      ]
     },
     "execution_count": 21,
     "metadata": {},
     "output_type": "execute_result"
    }
   ],
   "source": [
    "df[(df['Origin']=='DBRK')&(df['Destination']=='SSAN')].groupby('Year')['Throughput'].sum().sort_values(ascending=True).head(5)"
   ]
  },
  {
   "cell_type": "code",
   "execution_count": 22,
   "id": "37bcaa11",
   "metadata": {},
   "outputs": [
    {
     "data": {
      "text/plain": [
       "Month\n",
       "12     724\n",
       "8     1000\n",
       "11    1009\n",
       "9     1094\n",
       "7     1124\n",
       "Name: Throughput, dtype: int64"
      ]
     },
     "execution_count": 22,
     "metadata": {},
     "output_type": "execute_result"
    }
   ],
   "source": [
    "df[(df['Origin']=='DBRK')&(df['Destination']=='SSAN')].groupby('Month')['Throughput'].sum().sort_values(ascending=True).head(5)"
   ]
  },
  {
   "cell_type": "code",
   "execution_count": 23,
   "id": "5503e229",
   "metadata": {},
   "outputs": [
    {
     "data": {
      "text/plain": [
       "Day\n",
       "31    290\n",
       "30    417\n",
       "25    445\n",
       "24    478\n",
       "5     486\n",
       "Name: Throughput, dtype: int64"
      ]
     },
     "execution_count": 23,
     "metadata": {},
     "output_type": "execute_result"
    }
   ],
   "source": [
    "df[(df['Origin']=='DBRK')&(df['Destination']=='SSAN')].groupby('Day')['Throughput'].sum().sort_values(ascending=True).head(5)"
   ]
  },
  {
   "cell_type": "code",
   "execution_count": 24,
   "id": "602dac3b",
   "metadata": {},
   "outputs": [
    {
     "data": {
      "text/plain": [
       "Hour\n",
       "3      2\n",
       "2      7\n",
       "1    111\n",
       "5    137\n",
       "6    138\n",
       "Name: Throughput, dtype: int64"
      ]
     },
     "execution_count": 24,
     "metadata": {},
     "output_type": "execute_result"
    }
   ],
   "source": [
    "df[(df['Origin']=='DBRK')&(df['Destination']=='SSAN')].groupby('Hour')['Throughput'].sum().sort_values(ascending=True).head(5)"
   ]
  },
  {
   "cell_type": "code",
   "execution_count": 25,
   "id": "2b369c17",
   "metadata": {},
   "outputs": [
    {
     "data": {
      "text/plain": [
       "DayOfWeek\n",
       "2    30677189\n",
       "1    30350159\n",
       "3    30049974\n",
       "4    28373709\n",
       "0    26967803\n",
       "Name: Throughput, dtype: int64"
      ]
     },
     "execution_count": 25,
     "metadata": {},
     "output_type": "execute_result"
    }
   ],
   "source": [
    "#Which day of the week is the busiest?   # 2-Wednesday\n",
    "df['DayOfWeek']=df['DateTime'].dt.dayofweek\n",
    "df.groupby('DayOfWeek')['Throughput'].sum().sort_values(ascending=False).head(5)"
   ]
  },
  {
   "cell_type": "code",
   "execution_count": 26,
   "id": "bc16bef7",
   "metadata": {},
   "outputs": [
    {
     "data": {
      "text/plain": [
       "881212"
      ]
     },
     "execution_count": 26,
     "metadata": {},
     "output_type": "execute_result"
    }
   ],
   "source": [
    "#How many people take the BART late at night?\n",
    "df[(df['Hour']>=0)&(df['Hour']<=5)]['Throughput'].count()"
   ]
  },
  {
   "cell_type": "code",
   "execution_count": 27,
   "id": "c8f81375",
   "metadata": {},
   "outputs": [],
   "source": [
    "df['DayOfWeek'] = df['DateTime'].dt.day_name()"
   ]
  },
  {
   "cell_type": "code",
   "execution_count": 28,
   "id": "ab14a3c2",
   "metadata": {},
   "outputs": [],
   "source": [
    "df['Month'] = df['DateTime'].dt.month_name()"
   ]
  },
  {
   "cell_type": "code",
   "execution_count": 29,
   "id": "75da04fd",
   "metadata": {},
   "outputs": [
    {
     "data": {
      "image/png": "[encoded data removed]",
      "text/plain": [
       "<Figure size 640x480 with 1 Axes>"
      ]
     },
     "metadata": {},
     "output_type": "display_data"
    }
   ],
   "source": [
    "df.groupby('DayOfWeek')['Throughput'].sum().sort_values(ascending=False).plot.pie(autopct='%1.1f%%',explode=[0.1,.0,0,0,0,0,0]);"
   ]
  },
  {
   "cell_type": "code",
   "execution_count": 30,
   "id": "a08a8c91",
   "metadata": {},
   "outputs": [
    {
     "data": {
      "image/png": "[encoded data removed]",
      "text/plain": [
       "<Figure size 640x480 with 1 Axes>"
      ]
     },
     "metadata": {},
     "output_type": "display_data"
    }
   ],
   "source": [
    "df.groupby('Month')['Throughput'].sum().sort_values(ascending=False).plot.pie(autopct='%1.1f%%',explode=[0.1,.0,0,0,0,0,0,0,0,0,0,0]);"
   ]
  },
  {
   "cell_type": "code",
   "execution_count": 31,
   "id": "9f169939",
   "metadata": {},
   "outputs": [],
   "source": [
    "#Question A: Compute the straight line distance between every station"
   ]
  },
  {
   "cell_type": "code",
   "execution_count": 32,
   "id": "8761b667",
   "metadata": {
    "scrolled": true
   },
   "outputs": [],
   "source": [
    "df1['Longitude'] = df1['Location'].str.split(',', expand=True)[0].astype(float)\n",
    "df1['Latitude'] = df1['Location'].str.split(',', expand=True)[1].astype(float)"
   ]
  },
  {
   "cell_type": "code",
   "execution_count": 33,
   "id": "bdf8a268",
   "metadata": {},
   "outputs": [],
   "source": [
    "df1=df1.drop(['Location','Description','Name'],axis=1)"
   ]
  },
  {
   "cell_type": "code",
   "execution_count": 34,
   "id": "ffb66652",
   "metadata": {},
   "outputs": [
    {
     "name": "stdout",
     "output_type": "stream",
     "text": [
      "<class 'pandas.core.frame.DataFrame'>\n",
      "RangeIndex: 46 entries, 0 to 45\n",
      "Data columns (total 3 columns):\n",
      " #   Column        Non-Null Count  Dtype  \n",
      "---  ------        --------------  -----  \n",
      " 0   Abbreviation  46 non-null     object \n",
      " 1   Longitude     46 non-null     float64\n",
      " 2   Latitude      46 non-null     float64\n",
      "dtypes: float64(2), object(1)\n",
      "memory usage: 1.2+ KB\n"
     ]
    }
   ],
   "source": [
    "df1.info()"
   ]
  },
  {
   "cell_type": "code",
   "execution_count": 35,
   "id": "eaf30c4d",
   "metadata": {},
   "outputs": [],
   "source": [
    "df1['Abbreviation'] = df1['Abbreviation'].astype(str)"
   ]
  },
  {
   "cell_type": "code",
   "execution_count": 36,
   "id": "818901b0",
   "metadata": {},
   "outputs": [
    {
     "data": {
      "text/html": [
       "<div>\n",
       "<style scoped>\n",
       "    .dataframe tbody tr th:only-of-type {\n",
       "        vertical-align: middle;\n",
       "    }\n",
       "\n",
       "    .dataframe tbody tr th {\n",
       "        vertical-align: top;\n",
       "    }\n",
       "\n",
       "    .dataframe thead th {\n",
       "        text-align: right;\n",
       "    }\n",
       "</style>\n",
       "<table border=\"1\" class=\"dataframe\">\n",
       "  <thead>\n",
       "    <tr style=\"text-align: right;\">\n",
       "      <th></th>\n",
       "      <th>Station1</th>\n",
       "      <th>Station2</th>\n",
       "      <th>Distance</th>\n",
       "    </tr>\n",
       "  </thead>\n",
       "  <tbody>\n",
       "    <tr>\n",
       "      <th>0</th>\n",
       "      <td>12TH</td>\n",
       "      <td>16TH</td>\n",
       "      <td>13.720175</td>\n",
       "    </tr>\n",
       "    <tr>\n",
       "      <th>1</th>\n",
       "      <td>12TH</td>\n",
       "      <td>19TH</td>\n",
       "      <td>0.567617</td>\n",
       "    </tr>\n",
       "    <tr>\n",
       "      <th>2</th>\n",
       "      <td>12TH</td>\n",
       "      <td>24TH</td>\n",
       "      <td>14.097927</td>\n",
       "    </tr>\n",
       "    <tr>\n",
       "      <th>3</th>\n",
       "      <td>12TH</td>\n",
       "      <td>ASHB</td>\n",
       "      <td>5.453806</td>\n",
       "    </tr>\n",
       "    <tr>\n",
       "      <th>4</th>\n",
       "      <td>12TH</td>\n",
       "      <td>BALB</td>\n",
       "      <td>17.972899</td>\n",
       "    </tr>\n",
       "    <tr>\n",
       "      <th>...</th>\n",
       "      <td>...</td>\n",
       "      <td>...</td>\n",
       "      <td>...</td>\n",
       "    </tr>\n",
       "    <tr>\n",
       "      <th>1030</th>\n",
       "      <td>WARM</td>\n",
       "      <td>WDUB</td>\n",
       "      <td>21.992095</td>\n",
       "    </tr>\n",
       "    <tr>\n",
       "      <th>1031</th>\n",
       "      <td>WARM</td>\n",
       "      <td>WOAK</td>\n",
       "      <td>45.980238</td>\n",
       "    </tr>\n",
       "    <tr>\n",
       "      <th>1032</th>\n",
       "      <td>WCRK</td>\n",
       "      <td>WDUB</td>\n",
       "      <td>25.947182</td>\n",
       "    </tr>\n",
       "    <tr>\n",
       "      <th>1033</th>\n",
       "      <td>WCRK</td>\n",
       "      <td>WOAK</td>\n",
       "      <td>22.903966</td>\n",
       "    </tr>\n",
       "    <tr>\n",
       "      <th>1034</th>\n",
       "      <td>WDUB</td>\n",
       "      <td>WOAK</td>\n",
       "      <td>34.309405</td>\n",
       "    </tr>\n",
       "  </tbody>\n",
       "</table>\n",
       "<p>1035 rows × 3 columns</p>\n",
       "</div>"
      ],
      "text/plain": [
       "     Station1 Station2   Distance\n",
       "0        12TH     16TH  13.720175\n",
       "1        12TH     19TH   0.567617\n",
       "2        12TH     24TH  14.097927\n",
       "3        12TH     ASHB   5.453806\n",
       "4        12TH     BALB  17.972899\n",
       "...       ...      ...        ...\n",
       "1030     WARM     WDUB  21.992095\n",
       "1031     WARM     WOAK  45.980238\n",
       "1032     WCRK     WDUB  25.947182\n",
       "1033     WCRK     WOAK  22.903966\n",
       "1034     WDUB     WOAK  34.309405\n",
       "\n",
       "[1035 rows x 3 columns]"
      ]
     },
     "execution_count": 36,
     "metadata": {},
     "output_type": "execute_result"
    }
   ],
   "source": [
    "import pandas as pd\n",
    "import numpy as np\n",
    "from math import radians, sin, cos, sqrt, atan2\n",
    "\n",
    "# Haversine formülü ile iki koordinat arasındaki mesafeyi hesaplayan bir fonksiyon\n",
    "def haversine(lat1, lon1, lat2, lon2):\n",
    "    R = 6371.0  # Dünya'nın ortalama yarıçapı (km)\n",
    "\n",
    "    # Radyan cinsinden koordinatlar\n",
    "    lat1 = radians(lat1)\n",
    "    lon1 = radians(lon1)\n",
    "    lat2 = radians(lat2)\n",
    "    lon2 = radians(lon2)\n",
    "\n",
    "    # Haversine formülü\n",
    "    dlon = lon2 - lon1\n",
    "    dlat = lat2 - lat1\n",
    "    a = sin(dlat / 2)**2 + cos(lat1) * cos(lat2) * sin(dlon / 2)**2\n",
    "    c = 2 * atan2(sqrt(a), sqrt(1 - a))\n",
    "    distance = R * c\n",
    "\n",
    "    return distance\n",
    "\n",
    "# Yeni bir dataframe oluşturmak için her bir istasyonun diğer istasyonlarla olan mesafelerini hesaplayalım\n",
    "df_distances = pd.DataFrame(columns=['Station1', 'Station2', 'Distance'])\n",
    "\n",
    "for i in range(len(df1)):\n",
    "    for j in range(i + 1, len(df1)):\n",
    "        station1 = df1.loc[i, 'Abbreviation']\n",
    "        station2 = df1.loc[j, 'Abbreviation']\n",
    "        lat1 = df1.loc[i, 'Latitude']\n",
    "        lon1 = df1.loc[i, 'Longitude']\n",
    "        lat2 = df1.loc[j, 'Latitude']\n",
    "        lon2 = df1.loc[j, 'Longitude']\n",
    "        distance = haversine(lat1, lon1, lat2, lon2)\n",
    "        df_distances = pd.concat([df_distances, pd.DataFrame({'Station1': [station1], 'Station2': [station2], 'Distance': [distance]})], ignore_index=True)\n",
    "\n",
    "df_distances\n"
   ]
  },
  {
   "cell_type": "code",
   "execution_count": 37,
   "id": "d54c12e2",
   "metadata": {},
   "outputs": [],
   "source": [
    "#Question B: Build a model that can predict the number of people commuting to work by Bart between any 2 stations"
   ]
  },
  {
   "cell_type": "code",
   "execution_count": 38,
   "id": "f0dc3187",
   "metadata": {},
   "outputs": [],
   "source": [
    "df=df.drop(['DateTime','Month','DayOfWeek'],axis=1)"
   ]
  },
  {
   "cell_type": "code",
   "execution_count": 39,
   "id": "ce5700d2",
   "metadata": {},
   "outputs": [
    {
     "data": {
      "text/html": [
       "<div>\n",
       "<style scoped>\n",
       "    .dataframe tbody tr th:only-of-type {\n",
       "        vertical-align: middle;\n",
       "    }\n",
       "\n",
       "    .dataframe tbody tr th {\n",
       "        vertical-align: top;\n",
       "    }\n",
       "\n",
       "    .dataframe thead th {\n",
       "        text-align: right;\n",
       "    }\n",
       "</style>\n",
       "<table border=\"1\" class=\"dataframe\">\n",
       "  <thead>\n",
       "    <tr style=\"text-align: right;\">\n",
       "      <th></th>\n",
       "      <th>Origin</th>\n",
       "      <th>Destination</th>\n",
       "      <th>Throughput</th>\n",
       "      <th>Year</th>\n",
       "      <th>Day</th>\n",
       "      <th>Hour</th>\n",
       "    </tr>\n",
       "  </thead>\n",
       "  <tbody>\n",
       "    <tr>\n",
       "      <th>0</th>\n",
       "      <td>12TH</td>\n",
       "      <td>12TH</td>\n",
       "      <td>1</td>\n",
       "      <td>2016</td>\n",
       "      <td>1</td>\n",
       "      <td>0</td>\n",
       "    </tr>\n",
       "    <tr>\n",
       "      <th>1</th>\n",
       "      <td>12TH</td>\n",
       "      <td>16TH</td>\n",
       "      <td>1</td>\n",
       "      <td>2016</td>\n",
       "      <td>1</td>\n",
       "      <td>0</td>\n",
       "    </tr>\n",
       "    <tr>\n",
       "      <th>2</th>\n",
       "      <td>12TH</td>\n",
       "      <td>24TH</td>\n",
       "      <td>4</td>\n",
       "      <td>2016</td>\n",
       "      <td>1</td>\n",
       "      <td>0</td>\n",
       "    </tr>\n",
       "    <tr>\n",
       "      <th>3</th>\n",
       "      <td>12TH</td>\n",
       "      <td>ASHB</td>\n",
       "      <td>4</td>\n",
       "      <td>2016</td>\n",
       "      <td>1</td>\n",
       "      <td>0</td>\n",
       "    </tr>\n",
       "    <tr>\n",
       "      <th>4</th>\n",
       "      <td>12TH</td>\n",
       "      <td>BALB</td>\n",
       "      <td>2</td>\n",
       "      <td>2016</td>\n",
       "      <td>1</td>\n",
       "      <td>0</td>\n",
       "    </tr>\n",
       "    <tr>\n",
       "      <th>...</th>\n",
       "      <td>...</td>\n",
       "      <td>...</td>\n",
       "      <td>...</td>\n",
       "      <td>...</td>\n",
       "      <td>...</td>\n",
       "      <td>...</td>\n",
       "    </tr>\n",
       "    <tr>\n",
       "      <th>3313620</th>\n",
       "      <td>WSPR</td>\n",
       "      <td>MONT</td>\n",
       "      <td>1</td>\n",
       "      <td>2017</td>\n",
       "      <td>3</td>\n",
       "      <td>23</td>\n",
       "    </tr>\n",
       "    <tr>\n",
       "      <th>3313621</th>\n",
       "      <td>WSPR</td>\n",
       "      <td>NBRK</td>\n",
       "      <td>1</td>\n",
       "      <td>2017</td>\n",
       "      <td>3</td>\n",
       "      <td>23</td>\n",
       "    </tr>\n",
       "    <tr>\n",
       "      <th>3313622</th>\n",
       "      <td>WSPR</td>\n",
       "      <td>NCON</td>\n",
       "      <td>1</td>\n",
       "      <td>2017</td>\n",
       "      <td>3</td>\n",
       "      <td>23</td>\n",
       "    </tr>\n",
       "    <tr>\n",
       "      <th>3313623</th>\n",
       "      <td>WSPR</td>\n",
       "      <td>SANL</td>\n",
       "      <td>2</td>\n",
       "      <td>2017</td>\n",
       "      <td>3</td>\n",
       "      <td>23</td>\n",
       "    </tr>\n",
       "    <tr>\n",
       "      <th>3313624</th>\n",
       "      <td>WSPR</td>\n",
       "      <td>SHAY</td>\n",
       "      <td>4</td>\n",
       "      <td>2017</td>\n",
       "      <td>3</td>\n",
       "      <td>23</td>\n",
       "    </tr>\n",
       "  </tbody>\n",
       "</table>\n",
       "<p>13285207 rows × 6 columns</p>\n",
       "</div>"
      ],
      "text/plain": [
       "        Origin Destination  Throughput  Year  Day  Hour\n",
       "0         12TH        12TH           1  2016    1     0\n",
       "1         12TH        16TH           1  2016    1     0\n",
       "2         12TH        24TH           4  2016    1     0\n",
       "3         12TH        ASHB           4  2016    1     0\n",
       "4         12TH        BALB           2  2016    1     0\n",
       "...        ...         ...         ...   ...  ...   ...\n",
       "3313620   WSPR        MONT           1  2017    3    23\n",
       "3313621   WSPR        NBRK           1  2017    3    23\n",
       "3313622   WSPR        NCON           1  2017    3    23\n",
       "3313623   WSPR        SANL           2  2017    3    23\n",
       "3313624   WSPR        SHAY           4  2017    3    23\n",
       "\n",
       "[13285207 rows x 6 columns]"
      ]
     },
     "execution_count": 39,
     "metadata": {},
     "output_type": "execute_result"
    }
   ],
   "source": [
    "df"
   ]
  },
  {
   "cell_type": "code",
   "execution_count": 40,
   "id": "0bd668db",
   "metadata": {},
   "outputs": [],
   "source": [
    "df=df[~df['Day'].isin([5, 6]) & df['Hour'].isin([16, 17, 18])]"
   ]
  },
  {
   "cell_type": "code",
   "execution_count": 41,
   "id": "1f3e91bf",
   "metadata": {},
   "outputs": [],
   "source": [
    "df=df[df['Year']==2017]"
   ]
  },
  {
   "cell_type": "code",
   "execution_count": 42,
   "id": "7f386a0d",
   "metadata": {},
   "outputs": [],
   "source": [
    "df=df.drop(['Year'],axis=1)"
   ]
  },
  {
   "cell_type": "code",
   "execution_count": 43,
   "id": "6d7d95d6",
   "metadata": {},
   "outputs": [
    {
     "data": {
      "text/html": [
       "<div>\n",
       "<style scoped>\n",
       "    .dataframe tbody tr th:only-of-type {\n",
       "        vertical-align: middle;\n",
       "    }\n",
       "\n",
       "    .dataframe tbody tr th {\n",
       "        vertical-align: top;\n",
       "    }\n",
       "\n",
       "    .dataframe thead th {\n",
       "        text-align: right;\n",
       "    }\n",
       "</style>\n",
       "<table border=\"1\" class=\"dataframe\">\n",
       "  <thead>\n",
       "    <tr style=\"text-align: right;\">\n",
       "      <th></th>\n",
       "      <th>Origin</th>\n",
       "      <th>Destination</th>\n",
       "      <th>Throughput</th>\n",
       "      <th>Day</th>\n",
       "      <th>Hour</th>\n",
       "    </tr>\n",
       "  </thead>\n",
       "  <tbody>\n",
       "    <tr>\n",
       "      <th>11868</th>\n",
       "      <td>12TH</td>\n",
       "      <td>12TH</td>\n",
       "      <td>1</td>\n",
       "      <td>1</td>\n",
       "      <td>16</td>\n",
       "    </tr>\n",
       "    <tr>\n",
       "      <th>11869</th>\n",
       "      <td>12TH</td>\n",
       "      <td>16TH</td>\n",
       "      <td>6</td>\n",
       "      <td>1</td>\n",
       "      <td>16</td>\n",
       "    </tr>\n",
       "    <tr>\n",
       "      <th>11870</th>\n",
       "      <td>12TH</td>\n",
       "      <td>19TH</td>\n",
       "      <td>1</td>\n",
       "      <td>1</td>\n",
       "      <td>16</td>\n",
       "    </tr>\n",
       "    <tr>\n",
       "      <th>11871</th>\n",
       "      <td>12TH</td>\n",
       "      <td>24TH</td>\n",
       "      <td>10</td>\n",
       "      <td>1</td>\n",
       "      <td>16</td>\n",
       "    </tr>\n",
       "    <tr>\n",
       "      <th>11872</th>\n",
       "      <td>12TH</td>\n",
       "      <td>ASHB</td>\n",
       "      <td>3</td>\n",
       "      <td>1</td>\n",
       "      <td>16</td>\n",
       "    </tr>\n",
       "    <tr>\n",
       "      <th>...</th>\n",
       "      <td>...</td>\n",
       "      <td>...</td>\n",
       "      <td>...</td>\n",
       "      <td>...</td>\n",
       "      <td>...</td>\n",
       "    </tr>\n",
       "    <tr>\n",
       "      <th>3306902</th>\n",
       "      <td>WSPR</td>\n",
       "      <td>SHAY</td>\n",
       "      <td>5</td>\n",
       "      <td>3</td>\n",
       "      <td>18</td>\n",
       "    </tr>\n",
       "    <tr>\n",
       "      <th>3306903</th>\n",
       "      <td>WSPR</td>\n",
       "      <td>UCTY</td>\n",
       "      <td>7</td>\n",
       "      <td>3</td>\n",
       "      <td>18</td>\n",
       "    </tr>\n",
       "    <tr>\n",
       "      <th>3306904</th>\n",
       "      <td>WSPR</td>\n",
       "      <td>WCRK</td>\n",
       "      <td>2</td>\n",
       "      <td>3</td>\n",
       "      <td>18</td>\n",
       "    </tr>\n",
       "    <tr>\n",
       "      <th>3306905</th>\n",
       "      <td>WSPR</td>\n",
       "      <td>WOAK</td>\n",
       "      <td>2</td>\n",
       "      <td>3</td>\n",
       "      <td>18</td>\n",
       "    </tr>\n",
       "    <tr>\n",
       "      <th>3306906</th>\n",
       "      <td>WSPR</td>\n",
       "      <td>WSPR</td>\n",
       "      <td>2</td>\n",
       "      <td>3</td>\n",
       "      <td>18</td>\n",
       "    </tr>\n",
       "  </tbody>\n",
       "</table>\n",
       "<p>564469 rows × 5 columns</p>\n",
       "</div>"
      ],
      "text/plain": [
       "        Origin Destination  Throughput  Day  Hour\n",
       "11868     12TH        12TH           1    1    16\n",
       "11869     12TH        16TH           6    1    16\n",
       "11870     12TH        19TH           1    1    16\n",
       "11871     12TH        24TH          10    1    16\n",
       "11872     12TH        ASHB           3    1    16\n",
       "...        ...         ...         ...  ...   ...\n",
       "3306902   WSPR        SHAY           5    3    18\n",
       "3306903   WSPR        UCTY           7    3    18\n",
       "3306904   WSPR        WCRK           2    3    18\n",
       "3306905   WSPR        WOAK           2    3    18\n",
       "3306906   WSPR        WSPR           2    3    18\n",
       "\n",
       "[564469 rows x 5 columns]"
      ]
     },
     "execution_count": 43,
     "metadata": {},
     "output_type": "execute_result"
    }
   ],
   "source": [
    "df"
   ]
  },
  {
   "cell_type": "code",
   "execution_count": 44,
   "id": "3b7ceef5",
   "metadata": {},
   "outputs": [
    {
     "name": "stdout",
     "output_type": "stream",
     "text": [
      "<class 'pandas.core.frame.DataFrame'>\n",
      "Index: 564469 entries, 11868 to 3306906\n",
      "Data columns (total 5 columns):\n",
      " #   Column       Non-Null Count   Dtype \n",
      "---  ------       --------------   ----- \n",
      " 0   Origin       564469 non-null  object\n",
      " 1   Destination  564469 non-null  object\n",
      " 2   Throughput   564469 non-null  int64 \n",
      " 3   Day          564469 non-null  int32 \n",
      " 4   Hour         564469 non-null  int32 \n",
      "dtypes: int32(2), int64(1), object(2)\n",
      "memory usage: 21.5+ MB\n"
     ]
    }
   ],
   "source": [
    "df.info()"
   ]
  },
  {
   "cell_type": "code",
   "execution_count": 45,
   "id": "85e0c709",
   "metadata": {},
   "outputs": [],
   "source": [
    "x=df[['Day','Hour','Throughput']]\n",
    "y=df['Throughput']"
   ]
  },
  {
   "cell_type": "code",
   "execution_count": 53,
   "id": "76079b43",
   "metadata": {},
   "outputs": [],
   "source": [
    "from sklearn.decomposition import PCA\n",
    "\n",
    "from sklearn.preprocessing import StandardScaler\n",
    "from sklearn.model_selection import train_test_split\n",
    "\n",
    "from sklearn.metrics import  mean_squared_error\n",
    "\n",
    "import tensorflow as tf\n",
    "from tensorflow.keras.models import Sequential\n",
    "from tensorflow.keras.layers import Dense"
   ]
  },
  {
   "cell_type": "code",
   "execution_count": 54,
   "id": "095d48ee",
   "metadata": {},
   "outputs": [],
   "source": [
    "x = StandardScaler().fit_transform(x)"
   ]
  },
  {
   "cell_type": "code",
   "execution_count": 55,
   "id": "86563f88",
   "metadata": {},
   "outputs": [],
   "source": [
    "x_train, x_test, y_train, y_test = train_test_split(x, y, test_size=0.2, random_state=42)"
   ]
  },
  {
   "cell_type": "code",
   "execution_count": 56,
   "id": "471ccd23",
   "metadata": {},
   "outputs": [],
   "source": [
    "model = Sequential()\n",
    "\n",
    "model.add(Dense(64, activation=\"relu\"))\n",
    "model.add(Dense(32, activation=\"relu\"))\n",
    "model.add(Dense(16, activation=\"relu\"))\n",
    "model.add(Dense(8, activation=\"relu\"))\n",
    "model.add(Dense(1))\n",
    "\n",
    "model.compile(loss=\"mse\", optimizer=\"adam\", metrics=[\"mse\"])"
   ]
  },
  {
   "cell_type": "code",
   "execution_count": 57,
   "id": "68493805",
   "metadata": {
    "collapsed": true
   },
   "outputs": [
    {
     "name": "stdout",
     "output_type": "stream",
     "text": [
      "Epoch 1/10\n",
      "\u001b[1m14112/14112\u001b[0m \u001b[32m━━━━━━━━━━━━━━━━━━━━\u001b[0m\u001b[37m\u001b[0m \u001b[1m24s\u001b[0m 2ms/step - loss: 170.8352 - mse: 170.8352 - val_loss: 0.0048 - val_mse: 0.0048\n",
      "Epoch 2/10\n",
      "\u001b[1m14112/14112\u001b[0m \u001b[32m━━━━━━━━━━━━━━━━━━━━\u001b[0m\u001b[37m\u001b[0m \u001b[1m20s\u001b[0m 1ms/step - loss: 0.0752 - mse: 0.0752 - val_loss: 0.0013 - val_mse: 0.0013\n",
      "Epoch 3/10\n",
      "\u001b[1m14112/14112\u001b[0m \u001b[32m━━━━━━━━━━━━━━━━━━━━\u001b[0m\u001b[37m\u001b[0m \u001b[1m19s\u001b[0m 1ms/step - loss: 0.0543 - mse: 0.0543 - val_loss: 2.5064e-04 - val_mse: 2.5063e-04\n",
      "Epoch 4/10\n",
      "\u001b[1m14112/14112\u001b[0m \u001b[32m━━━━━━━━━━━━━━━━━━━━\u001b[0m\u001b[37m\u001b[0m \u001b[1m19s\u001b[0m 1ms/step - loss: 0.0660 - mse: 0.0660 - val_loss: 3.4603e-04 - val_mse: 3.4603e-04\n",
      "Epoch 5/10\n",
      "\u001b[1m14112/14112\u001b[0m \u001b[32m━━━━━━━━━━━━━━━━━━━━\u001b[0m\u001b[37m\u001b[0m \u001b[1m19s\u001b[0m 1ms/step - loss: 0.0522 - mse: 0.0522 - val_loss: 5.8822e-05 - val_mse: 5.8822e-05\n",
      "Epoch 6/10\n",
      "\u001b[1m14112/14112\u001b[0m \u001b[32m━━━━━━━━━━━━━━━━━━━━\u001b[0m\u001b[37m\u001b[0m \u001b[1m22s\u001b[0m 2ms/step - loss: 0.0461 - mse: 0.0461 - val_loss: 1.2240e-05 - val_mse: 1.2240e-05\n",
      "Epoch 7/10\n",
      "\u001b[1m14112/14112\u001b[0m \u001b[32m━━━━━━━━━━━━━━━━━━━━\u001b[0m\u001b[37m\u001b[0m \u001b[1m23s\u001b[0m 2ms/step - loss: 0.0486 - mse: 0.0486 - val_loss: 6.7582e-05 - val_mse: 6.7582e-05\n",
      "Epoch 8/10\n",
      "\u001b[1m14112/14112\u001b[0m \u001b[32m━━━━━━━━━━━━━━━━━━━━\u001b[0m\u001b[37m\u001b[0m \u001b[1m21s\u001b[0m 1ms/step - loss: 0.0613 - mse: 0.0613 - val_loss: 3.3095e-05 - val_mse: 3.3095e-05\n",
      "Epoch 9/10\n",
      "\u001b[1m14112/14112\u001b[0m \u001b[32m━━━━━━━━━━━━━━━━━━━━\u001b[0m\u001b[37m\u001b[0m \u001b[1m22s\u001b[0m 2ms/step - loss: 0.0532 - mse: 0.0532 - val_loss: 7.6606e-04 - val_mse: 7.6606e-04\n",
      "Epoch 10/10\n",
      "\u001b[1m14112/14112\u001b[0m \u001b[32m━━━━━━━━━━━━━━━━━━━━\u001b[0m\u001b[37m\u001b[0m \u001b[1m22s\u001b[0m 2ms/step - loss: 0.0769 - mse: 0.0769 - val_loss: 1.1340e-05 - val_mse: 1.1340e-05\n"
     ]
    }
   ],
   "source": [
    "history = model.fit(x_train, y_train, validation_data=(x_test, y_test), batch_size=32, epochs=10, verbose=1)"
   ]
  },
  {
   "cell_type": "code",
   "execution_count": 67,
   "id": "fb2efff2",
   "metadata": {},
   "outputs": [
    {
     "name": "stdout",
     "output_type": "stream",
     "text": [
      "\u001b[1m3528/3528\u001b[0m \u001b[32m━━━━━━━━━━━━━━━━━━━━\u001b[0m\u001b[37m\u001b[0m \u001b[1m10s\u001b[0m 3ms/step\n"
     ]
    }
   ],
   "source": [
    "prediction = model.predict(x_test)"
   ]
  },
  {
   "cell_type": "code",
   "execution_count": 60,
   "id": "ebaadd04",
   "metadata": {},
   "outputs": [],
   "source": [
    "from sklearn.metrics import r2_score"
   ]
  },
  {
   "cell_type": "code",
   "execution_count": 61,
   "id": "be4368d0",
   "metadata": {},
   "outputs": [
    {
     "data": {
      "text/plain": [
       "0.9999999947565258"
      ]
     },
     "execution_count": 61,
     "metadata": {},
     "output_type": "execute_result"
    }
   ],
   "source": [
    "r2_score(y_test, prediction)"
   ]
  },
  {
   "cell_type": "code",
   "execution_count": null,
   "id": "4da70b1c",
   "metadata": {},
   "outputs": [],
   "source": []
  }
 ],
 "metadata": {
  "kernelspec": {
   "display_name": "Python 3 (ipykernel)",
   "language": "python",
   "name": "python3"
  },
  "language_info": {
   "codemirror_mode": {
    "name": "ipython",
    "version": 3
   },
   "file_extension": ".py",
   "mimetype": "text/x-python",
   "name": "python",
   "nbconvert_exporter": "python",
   "pygments_lexer": "ipython3",
   "version": "3.11.5"
  }
 },
 "nbformat": 4,
 "nbformat_minor": 5
}
