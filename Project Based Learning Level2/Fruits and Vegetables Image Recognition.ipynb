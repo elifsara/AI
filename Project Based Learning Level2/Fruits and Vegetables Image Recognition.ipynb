{
 "cells": [
  {
   "cell_type": "markdown",
   "id": "b16c0c5c",
   "metadata": {},
   "source": [
    "# Fruits and Vegetables Image Recognition"
   ]
  },
  {
   "cell_type": "markdown",
   "id": "5bda91ae",
   "metadata": {},
   "source": [
    "The idea was to build an application which recognizes the food item(s) from the captured photo\n",
    "\n",
    "\n",
    "Fruits- banana, apple, pear, grapes, orange, kiwi, watermelon, pomegranate, pineapple, mango.\n",
    "\n",
    "Vegetables- cucumber, carrot, capsicum, onion, potato, lemon, tomato, raddish, beetroot, cabbage, lettuce, spinach, soy bean, cauliflower, bell pepper, chilli pepper, turnip, corn, sweetcorn, sweet potato, paprika, jalepeño, ginger, garlic, peas, eggplant."
   ]
  },
  {
   "cell_type": "markdown",
   "id": "b920cc1c",
   "metadata": {},
   "source": [
    "[You can find the dataset here](https://www.kaggle.com/datasets/kritikseth/fruit-and-vegetable-image-recognition)"
   ]
  },
  {
   "cell_type": "markdown",
   "id": "675c23ab",
   "metadata": {},
   "source": [
    "<img src='images.jpeg' width=\"500\" >"
   ]
  },
  {
   "cell_type": "code",
   "execution_count": 1,
   "id": "0c1b82d6",
   "metadata": {},
   "outputs": [],
   "source": [
    "import cv2\n",
    "import pandas as pd\n",
    "import os\n",
    "import warnings\n",
    "warnings.filterwarnings('ignore')"
   ]
  },
  {
   "cell_type": "code",
   "execution_count": 2,
   "id": "0998da99",
   "metadata": {},
   "outputs": [],
   "source": [
    "#pip install opencv-python"
   ]
  },
  {
   "cell_type": "code",
   "execution_count": 3,
   "id": "f9112745",
   "metadata": {},
   "outputs": [],
   "source": [
    "labels =['apple','banana','beetroot','bell pepper','cabbage','capsicum','carrot',\n",
    "         'cauliflower','chilli pepper','corn','cucumber','eggplant','garlic','ginger','grapes',\n",
    "         'jalepeno','kiwi','lemon','lettuce','mango','onion','orange','paprika','pear','peas',\n",
    "         'pineapple','pomegranate','potato','raddish','soy beans','spinach','sweetcorn','sweetpotato',\n",
    "         'tomato','turnip','watermelon']\n",
    "img_path='Fruits_and_Vegetables/'"
   ]
  },
  {
   "cell_type": "code",
   "execution_count": 4,
   "id": "96059e1f",
   "metadata": {},
   "outputs": [],
   "source": [
    "img_list=[]\n",
    "label_list=[]\n",
    "for label in labels:\n",
    "    for img_file in os.listdir(img_path+label):\n",
    "        img_list.append(img_path+label+'/'+img_file)\n",
    "        label_list.append(label)"
   ]
  },
  {
   "cell_type": "code",
   "execution_count": 5,
   "id": "9036cd3f",
   "metadata": {},
   "outputs": [],
   "source": [
    "df=pd.DataFrame({'img':img_list,'label':label_list})"
   ]
  },
  {
   "cell_type": "code",
   "execution_count": 6,
   "id": "ba8985c0",
   "metadata": {},
   "outputs": [
    {
     "data": {
      "text/html": [
       "<div>\n",
       "<style scoped>\n",
       "    .dataframe tbody tr th:only-of-type {\n",
       "        vertical-align: middle;\n",
       "    }\n",
       "\n",
       "    .dataframe tbody tr th {\n",
       "        vertical-align: top;\n",
       "    }\n",
       "\n",
       "    .dataframe thead th {\n",
       "        text-align: right;\n",
       "    }\n",
       "</style>\n",
       "<table border=\"1\" class=\"dataframe\">\n",
       "  <thead>\n",
       "    <tr style=\"text-align: right;\">\n",
       "      <th></th>\n",
       "      <th>img</th>\n",
       "      <th>label</th>\n",
       "    </tr>\n",
       "  </thead>\n",
       "  <tbody>\n",
       "    <tr>\n",
       "      <th>0</th>\n",
       "      <td>Fruits_and_Vegetables/apple/Image_1.jpg</td>\n",
       "      <td>apple</td>\n",
       "    </tr>\n",
       "    <tr>\n",
       "      <th>1</th>\n",
       "      <td>Fruits_and_Vegetables/apple/Image_10.jpg</td>\n",
       "      <td>apple</td>\n",
       "    </tr>\n",
       "    <tr>\n",
       "      <th>2</th>\n",
       "      <td>Fruits_and_Vegetables/apple/Image_16.jpg</td>\n",
       "      <td>apple</td>\n",
       "    </tr>\n",
       "    <tr>\n",
       "      <th>3</th>\n",
       "      <td>Fruits_and_Vegetables/apple/Image_17.jpg</td>\n",
       "      <td>apple</td>\n",
       "    </tr>\n",
       "    <tr>\n",
       "      <th>4</th>\n",
       "      <td>Fruits_and_Vegetables/apple/Image_18.jpg</td>\n",
       "      <td>apple</td>\n",
       "    </tr>\n",
       "  </tbody>\n",
       "</table>\n",
       "</div>"
      ],
      "text/plain": [
       "                                        img  label\n",
       "0   Fruits_and_Vegetables/apple/Image_1.jpg  apple\n",
       "1  Fruits_and_Vegetables/apple/Image_10.jpg  apple\n",
       "2  Fruits_and_Vegetables/apple/Image_16.jpg  apple\n",
       "3  Fruits_and_Vegetables/apple/Image_17.jpg  apple\n",
       "4  Fruits_and_Vegetables/apple/Image_18.jpg  apple"
      ]
     },
     "execution_count": 6,
     "metadata": {},
     "output_type": "execute_result"
    }
   ],
   "source": [
    "df.head()"
   ]
  },
  {
   "cell_type": "code",
   "execution_count": 7,
   "id": "5249d592",
   "metadata": {},
   "outputs": [],
   "source": [
    "import matplotlib.pyplot as plt\n",
    "d={'apple':0,'banana':1,'beetroot':2,'bell pepper':3,'cabbage':4,'capsicum':5,'carrot':6,\n",
    "  'cauliflower':7,'chilli pepper':8,'corn':9,'cucumber':10,'eggplant':11,'garlic':12,'ginger':13,\n",
    "   'grapes':14,'jalepeno':15,'kiwi':16,'lemon':17,'lettuce':18,'mango':19,'onion':20,'orange':21,\n",
    "  'paprika':22,'pear':23,'peas':24,'pineapple':25,'pomegranate':26,'potato':27,'raddish':28,\n",
    "   'soy beans':29,'spinach':30,'sweetcorn':31,'sweetpotato':32,'tomato':33,'turnip':34,'watermelon':35}"
   ]
  },
  {
   "cell_type": "code",
   "execution_count": 8,
   "id": "0d280535",
   "metadata": {},
   "outputs": [],
   "source": [
    "df['encode_label']=df['label'].map(d)"
   ]
  },
  {
   "cell_type": "code",
   "execution_count": 9,
   "id": "da6ecf51",
   "metadata": {},
   "outputs": [
    {
     "data": {
      "text/html": [
       "<div>\n",
       "<style scoped>\n",
       "    .dataframe tbody tr th:only-of-type {\n",
       "        vertical-align: middle;\n",
       "    }\n",
       "\n",
       "    .dataframe tbody tr th {\n",
       "        vertical-align: top;\n",
       "    }\n",
       "\n",
       "    .dataframe thead th {\n",
       "        text-align: right;\n",
       "    }\n",
       "</style>\n",
       "<table border=\"1\" class=\"dataframe\">\n",
       "  <thead>\n",
       "    <tr style=\"text-align: right;\">\n",
       "      <th></th>\n",
       "      <th>img</th>\n",
       "      <th>label</th>\n",
       "      <th>encode_label</th>\n",
       "    </tr>\n",
       "  </thead>\n",
       "  <tbody>\n",
       "    <tr>\n",
       "      <th>3113</th>\n",
       "      <td>Fruits_and_Vegetables/watermelon/Image_95.jpg</td>\n",
       "      <td>watermelon</td>\n",
       "      <td>35</td>\n",
       "    </tr>\n",
       "    <tr>\n",
       "      <th>3114</th>\n",
       "      <td>Fruits_and_Vegetables/watermelon/Image_96.jpg</td>\n",
       "      <td>watermelon</td>\n",
       "      <td>35</td>\n",
       "    </tr>\n",
       "    <tr>\n",
       "      <th>3115</th>\n",
       "      <td>Fruits_and_Vegetables/watermelon/Image_97.jpg</td>\n",
       "      <td>watermelon</td>\n",
       "      <td>35</td>\n",
       "    </tr>\n",
       "    <tr>\n",
       "      <th>3116</th>\n",
       "      <td>Fruits_and_Vegetables/watermelon/Image_98.jpg</td>\n",
       "      <td>watermelon</td>\n",
       "      <td>35</td>\n",
       "    </tr>\n",
       "    <tr>\n",
       "      <th>3117</th>\n",
       "      <td>Fruits_and_Vegetables/watermelon/Image_99.jpg</td>\n",
       "      <td>watermelon</td>\n",
       "      <td>35</td>\n",
       "    </tr>\n",
       "  </tbody>\n",
       "</table>\n",
       "</div>"
      ],
      "text/plain": [
       "                                                img       label  encode_label\n",
       "3113  Fruits_and_Vegetables/watermelon/Image_95.jpg  watermelon            35\n",
       "3114  Fruits_and_Vegetables/watermelon/Image_96.jpg  watermelon            35\n",
       "3115  Fruits_and_Vegetables/watermelon/Image_97.jpg  watermelon            35\n",
       "3116  Fruits_and_Vegetables/watermelon/Image_98.jpg  watermelon            35\n",
       "3117  Fruits_and_Vegetables/watermelon/Image_99.jpg  watermelon            35"
      ]
     },
     "execution_count": 9,
     "metadata": {},
     "output_type": "execute_result"
    }
   ],
   "source": [
    "df.tail()"
   ]
  },
  {
   "cell_type": "code",
   "execution_count": 10,
   "id": "d5f08aed",
   "metadata": {},
   "outputs": [],
   "source": [
    "import numpy as np"
   ]
  },
  {
   "cell_type": "code",
   "execution_count": 11,
   "id": "441e4a42",
   "metadata": {},
   "outputs": [],
   "source": [
    "x=[]\n",
    "for img in df['img']:\n",
    "    img=cv2.imread(img)\n",
    "    img=cv2.resize(img,(170,170))  #boyutunu 170*170 pixel yaptık\n",
    "    img=img/255.0  #Normalize ettik\n",
    "    x.append(img)\n",
    "x=np.array(x)"
   ]
  },
  {
   "cell_type": "code",
   "execution_count": 12,
   "id": "72088d68",
   "metadata": {},
   "outputs": [],
   "source": [
    "y=df['encode_label']"
   ]
  },
  {
   "cell_type": "code",
   "execution_count": 13,
   "id": "bfa8e540",
   "metadata": {},
   "outputs": [],
   "source": [
    "from sklearn.model_selection import train_test_split\n",
    "x_train,x_test,y_train,y_test=train_test_split(x,y,test_size=0.2,random_state=0)"
   ]
  },
  {
   "cell_type": "code",
   "execution_count": 14,
   "id": "b784910a",
   "metadata": {},
   "outputs": [],
   "source": [
    "from keras.models import Sequential\n",
    "from keras.layers import  Dense, Conv2D, Input, Reshape, MaxPooling2D, Flatten, Dropout, BatchNormalization"
   ]
  },
  {
   "cell_type": "code",
   "execution_count": 19,
   "id": "844fb30f",
   "metadata": {},
   "outputs": [],
   "source": [
    "model=Sequential()\n",
    "model.add(Input(shape=(170,170,3)))\n",
    "model.add(Conv2D(32,kernel_size=(3,3),activation='relu'))\n",
    "model.add(Conv2D(64,kernel_size=(3,3),activation='relu'))\n",
    "model.add(MaxPooling2D(pool_size=(2,2)))\n",
    "model.add(Dropout(0.2))\n",
    "model.add(Conv2D(128,kernel_size=(3,3),activation='relu'))\n",
    "model.add(MaxPooling2D(pool_size=(2,2)))\n",
    "model.add(Dropout(0.2))\n",
    "model.add(Flatten())\n",
    "model.add(Dense(128))\n",
    "model.add(Dense(64))\n",
    "model.add(Dense(36, activation='softmax')) \n",
    "model.compile(optimizer='adam',loss='sparse_categorical_crossentropy',metrics=['accuracy'])"
   ]
  },
  {
   "cell_type": "code",
   "execution_count": 20,
   "id": "e833ab33",
   "metadata": {},
   "outputs": [
    {
     "name": "stdout",
     "output_type": "stream",
     "text": [
      "Epoch 1/10\n",
      "\u001b[1m78/78\u001b[0m \u001b[32m━━━━━━━━━━━━━━━━━━━━\u001b[0m\u001b[37m\u001b[0m \u001b[1m201s\u001b[0m 2s/step - accuracy: 0.0247 - loss: 9.3961 - val_accuracy: 0.0946 - val_loss: 3.4352\n",
      "Epoch 2/10\n",
      "\u001b[1m78/78\u001b[0m \u001b[32m━━━━━━━━━━━━━━━━━━━━\u001b[0m\u001b[37m\u001b[0m \u001b[1m182s\u001b[0m 2s/step - accuracy: 0.1033 - loss: 3.2748 - val_accuracy: 0.1346 - val_loss: 3.2303\n",
      "Epoch 3/10\n",
      "\u001b[1m78/78\u001b[0m \u001b[32m━━━━━━━━━━━━━━━━━━━━\u001b[0m\u001b[37m\u001b[0m \u001b[1m163s\u001b[0m 2s/step - accuracy: 0.1808 - loss: 2.9972 - val_accuracy: 0.1571 - val_loss: 3.1243\n",
      "Epoch 4/10\n",
      "\u001b[1m78/78\u001b[0m \u001b[32m━━━━━━━━━━━━━━━━━━━━\u001b[0m\u001b[37m\u001b[0m \u001b[1m162s\u001b[0m 2s/step - accuracy: 0.2303 - loss: 2.7759 - val_accuracy: 0.2051 - val_loss: 2.9950\n",
      "Epoch 5/10\n",
      "\u001b[1m78/78\u001b[0m \u001b[32m━━━━━━━━━━━━━━━━━━━━\u001b[0m\u001b[37m\u001b[0m \u001b[1m157s\u001b[0m 2s/step - accuracy: 0.3424 - loss: 2.4011 - val_accuracy: 0.2147 - val_loss: 3.0055\n",
      "Epoch 6/10\n",
      "\u001b[1m78/78\u001b[0m \u001b[32m━━━━━━━━━━━━━━━━━━━━\u001b[0m\u001b[37m\u001b[0m \u001b[1m153s\u001b[0m 2s/step - accuracy: 0.5128 - loss: 1.7727 - val_accuracy: 0.2516 - val_loss: 3.3101\n",
      "Epoch 7/10\n",
      "\u001b[1m78/78\u001b[0m \u001b[32m━━━━━━━━━━━━━━━━━━━━\u001b[0m\u001b[37m\u001b[0m \u001b[1m134s\u001b[0m 2s/step - accuracy: 0.7521 - loss: 0.8970 - val_accuracy: 0.2580 - val_loss: 3.9807\n",
      "Epoch 8/10\n",
      "\u001b[1m78/78\u001b[0m \u001b[32m━━━━━━━━━━━━━━━━━━━━\u001b[0m\u001b[37m\u001b[0m \u001b[1m131s\u001b[0m 2s/step - accuracy: 0.8867 - loss: 0.4533 - val_accuracy: 0.2500 - val_loss: 4.6970\n",
      "Epoch 9/10\n",
      "\u001b[1m78/78\u001b[0m \u001b[32m━━━━━━━━━━━━━━━━━━━━\u001b[0m\u001b[37m\u001b[0m \u001b[1m128s\u001b[0m 2s/step - accuracy: 0.9482 - loss: 0.2535 - val_accuracy: 0.2372 - val_loss: 5.7266\n",
      "Epoch 10/10\n",
      "\u001b[1m78/78\u001b[0m \u001b[32m━━━━━━━━━━━━━━━━━━━━\u001b[0m\u001b[37m\u001b[0m \u001b[1m129s\u001b[0m 2s/step - accuracy: 0.9652 - loss: 0.1546 - val_accuracy: 0.2612 - val_loss: 5.8320\n"
     ]
    }
   ],
   "source": [
    "history=model.fit(x_train,y_train,validation_data=(x_test,y_test),epochs=10,verbose=1)"
   ]
  },
  {
   "cell_type": "code",
   "execution_count": 21,
   "id": "ee88ed08",
   "metadata": {},
   "outputs": [
    {
     "name": "stderr",
     "output_type": "stream",
     "text": [
      "WARNING:absl:You are saving your model as an HDF5 file via `model.save()` or `keras.saving.save_model(model)`. This file format is considered legacy. We recommend using instead the native Keras format, e.g. `model.save('my_model.keras')` or `keras.saving.save_model(model, 'my_model.keras')`. \n"
     ]
    }
   ],
   "source": [
    "model.save('my_fv_model.h5')"
   ]
  },
  {
   "cell_type": "markdown",
   "id": "5d7e355a",
   "metadata": {},
   "source": [
    "According to the classification results, it's now easier to understand which fruits and vegetables belong to which categories."
   ]
  },
  {
   "cell_type": "code",
   "execution_count": null,
   "id": "a0591b6d",
   "metadata": {},
   "outputs": [],
   "source": []
  }
 ],
 "metadata": {
  "kernelspec": {
   "display_name": "Python 3 (ipykernel)",
   "language": "python",
   "name": "python3"
  },
  "language_info": {
   "codemirror_mode": {
    "name": "ipython",
    "version": 3
   },
   "file_extension": ".py",
   "mimetype": "text/x-python",
   "name": "python",
   "nbconvert_exporter": "python",
   "pygments_lexer": "ipython3",
   "version": "3.11.5"
  }
 },
 "nbformat": 4,
 "nbformat_minor": 5
}
