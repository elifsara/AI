{
 "cells": [
  {
   "cell_type": "markdown",
   "id": "b16c0c5c",
   "metadata": {},
   "source": [
    "# Augmented Grapevine Disease"
   ]
  },
  {
   "cell_type": "markdown",
   "id": "5bda91ae",
   "metadata": {},
   "source": [
    "This project aims to build a model for disease detection using the provided images."
   ]
  },
  {
   "cell_type": "markdown",
   "id": "b920cc1c",
   "metadata": {},
   "source": [
    "[You can find the dataset here](https://www.kaggle.com/datasets/rm1000/augmented-grape-disease-detection-dataset)"
   ]
  },
  {
   "cell_type": "markdown",
   "id": "675c23ab",
   "metadata": {},
   "source": [
    "<img src='dataset-cover.png' width=\"500\" >"
   ]
  },
  {
   "cell_type": "code",
   "execution_count": 1,
   "id": "0c1b82d6",
   "metadata": {},
   "outputs": [],
   "source": [
    "import cv2\n",
    "import pandas as pd\n",
    "import os\n",
    "import warnings\n",
    "warnings.filterwarnings('ignore')"
   ]
  },
  {
   "cell_type": "code",
   "execution_count": 2,
   "id": "0998da99",
   "metadata": {},
   "outputs": [],
   "source": [
    "#pip install opencv-python"
   ]
  },
  {
   "cell_type": "code",
   "execution_count": 3,
   "id": "f9112745",
   "metadata": {},
   "outputs": [],
   "source": [
    "labels =['Black Rot','ESCA','Healthy','Leaf Blight']\n",
    "img_path='Final Training Data/'"
   ]
  },
  {
   "cell_type": "code",
   "execution_count": 4,
   "id": "96059e1f",
   "metadata": {},
   "outputs": [],
   "source": [
    "img_list=[]\n",
    "label_list=[]\n",
    "for label in labels:\n",
    "    for img_file in os.listdir(img_path+label):\n",
    "        img_list.append(img_path+label+'/'+img_file)\n",
    "        label_list.append(label)"
   ]
  },
  {
   "cell_type": "code",
   "execution_count": 5,
   "id": "9036cd3f",
   "metadata": {},
   "outputs": [],
   "source": [
    "df=pd.DataFrame({'img':img_list,'label':label_list})"
   ]
  },
  {
   "cell_type": "code",
   "execution_count": 6,
   "id": "ba8985c0",
   "metadata": {},
   "outputs": [
    {
     "data": {
      "text/html": [
       "<div>\n",
       "<style scoped>\n",
       "    .dataframe tbody tr th:only-of-type {\n",
       "        vertical-align: middle;\n",
       "    }\n",
       "\n",
       "    .dataframe tbody tr th {\n",
       "        vertical-align: top;\n",
       "    }\n",
       "\n",
       "    .dataframe thead th {\n",
       "        text-align: right;\n",
       "    }\n",
       "</style>\n",
       "<table border=\"1\" class=\"dataframe\">\n",
       "  <thead>\n",
       "    <tr style=\"text-align: right;\">\n",
       "      <th></th>\n",
       "      <th>img</th>\n",
       "      <th>label</th>\n",
       "    </tr>\n",
       "  </thead>\n",
       "  <tbody>\n",
       "    <tr>\n",
       "      <th>0</th>\n",
       "      <td>Final Training Data/Black Rot/00090b0f-c140-4e...</td>\n",
       "      <td>Black Rot</td>\n",
       "    </tr>\n",
       "    <tr>\n",
       "      <th>1</th>\n",
       "      <td>Final Training Data/Black Rot/003d09ef-e16c-4e...</td>\n",
       "      <td>Black Rot</td>\n",
       "    </tr>\n",
       "    <tr>\n",
       "      <th>2</th>\n",
       "      <td>Final Training Data/Black Rot/004175d8-dc74-42...</td>\n",
       "      <td>Black Rot</td>\n",
       "    </tr>\n",
       "    <tr>\n",
       "      <th>3</th>\n",
       "      <td>Final Training Data/Black Rot/004175d8-dc74-42...</td>\n",
       "      <td>Black Rot</td>\n",
       "    </tr>\n",
       "    <tr>\n",
       "      <th>4</th>\n",
       "      <td>Final Training Data/Black Rot/006efc68-9e46-41...</td>\n",
       "      <td>Black Rot</td>\n",
       "    </tr>\n",
       "  </tbody>\n",
       "</table>\n",
       "</div>"
      ],
      "text/plain": [
       "                                                 img      label\n",
       "0  Final Training Data/Black Rot/00090b0f-c140-4e...  Black Rot\n",
       "1  Final Training Data/Black Rot/003d09ef-e16c-4e...  Black Rot\n",
       "2  Final Training Data/Black Rot/004175d8-dc74-42...  Black Rot\n",
       "3  Final Training Data/Black Rot/004175d8-dc74-42...  Black Rot\n",
       "4  Final Training Data/Black Rot/006efc68-9e46-41...  Black Rot"
      ]
     },
     "execution_count": 6,
     "metadata": {},
     "output_type": "execute_result"
    }
   ],
   "source": [
    "df.head()"
   ]
  },
  {
   "cell_type": "code",
   "execution_count": 7,
   "id": "5249d592",
   "metadata": {},
   "outputs": [],
   "source": [
    "import matplotlib.pyplot as plt\n",
    "d={'Black Rot':0,'ESCA':1,'Healthy':2,'Leaf Blight':3}"
   ]
  },
  {
   "cell_type": "code",
   "execution_count": 8,
   "id": "0d280535",
   "metadata": {},
   "outputs": [],
   "source": [
    "df['encode_label']=df['label'].map(d)"
   ]
  },
  {
   "cell_type": "code",
   "execution_count": 9,
   "id": "da6ecf51",
   "metadata": {},
   "outputs": [
    {
     "data": {
      "text/html": [
       "<div>\n",
       "<style scoped>\n",
       "    .dataframe tbody tr th:only-of-type {\n",
       "        vertical-align: middle;\n",
       "    }\n",
       "\n",
       "    .dataframe tbody tr th {\n",
       "        vertical-align: top;\n",
       "    }\n",
       "\n",
       "    .dataframe thead th {\n",
       "        text-align: right;\n",
       "    }\n",
       "</style>\n",
       "<table border=\"1\" class=\"dataframe\">\n",
       "  <thead>\n",
       "    <tr style=\"text-align: right;\">\n",
       "      <th></th>\n",
       "      <th>img</th>\n",
       "      <th>label</th>\n",
       "      <th>encode_label</th>\n",
       "    </tr>\n",
       "  </thead>\n",
       "  <tbody>\n",
       "    <tr>\n",
       "      <th>11995</th>\n",
       "      <td>Final Training Data/Leaf Blight/_99_9189440.png</td>\n",
       "      <td>Leaf Blight</td>\n",
       "      <td>3</td>\n",
       "    </tr>\n",
       "    <tr>\n",
       "      <th>11996</th>\n",
       "      <td>Final Training Data/Leaf Blight/_99_9492472.png</td>\n",
       "      <td>Leaf Blight</td>\n",
       "      <td>3</td>\n",
       "    </tr>\n",
       "    <tr>\n",
       "      <th>11997</th>\n",
       "      <td>Final Training Data/Leaf Blight/_99_9843346.png</td>\n",
       "      <td>Leaf Blight</td>\n",
       "      <td>3</td>\n",
       "    </tr>\n",
       "    <tr>\n",
       "      <th>11998</th>\n",
       "      <td>Final Training Data/Leaf Blight/_99_988695.png</td>\n",
       "      <td>Leaf Blight</td>\n",
       "      <td>3</td>\n",
       "    </tr>\n",
       "    <tr>\n",
       "      <th>11999</th>\n",
       "      <td>Final Training Data/Leaf Blight/_99_9899500.png</td>\n",
       "      <td>Leaf Blight</td>\n",
       "      <td>3</td>\n",
       "    </tr>\n",
       "  </tbody>\n",
       "</table>\n",
       "</div>"
      ],
      "text/plain": [
       "                                                   img        label  \\\n",
       "11995  Final Training Data/Leaf Blight/_99_9189440.png  Leaf Blight   \n",
       "11996  Final Training Data/Leaf Blight/_99_9492472.png  Leaf Blight   \n",
       "11997  Final Training Data/Leaf Blight/_99_9843346.png  Leaf Blight   \n",
       "11998   Final Training Data/Leaf Blight/_99_988695.png  Leaf Blight   \n",
       "11999  Final Training Data/Leaf Blight/_99_9899500.png  Leaf Blight   \n",
       "\n",
       "       encode_label  \n",
       "11995             3  \n",
       "11996             3  \n",
       "11997             3  \n",
       "11998             3  \n",
       "11999             3  "
      ]
     },
     "execution_count": 9,
     "metadata": {},
     "output_type": "execute_result"
    }
   ],
   "source": [
    "df.tail()"
   ]
  },
  {
   "cell_type": "code",
   "execution_count": 10,
   "id": "d5f08aed",
   "metadata": {},
   "outputs": [],
   "source": [
    "import numpy as np"
   ]
  },
  {
   "cell_type": "code",
   "execution_count": 11,
   "id": "441e4a42",
   "metadata": {},
   "outputs": [],
   "source": [
    "x=[]\n",
    "for img in df['img']:\n",
    "    img=cv2.imread(img)\n",
    "    img=cv2.resize(img,(170,170))  #boyutunu 170*170 pixel yaptık\n",
    "    img=img/255.0  #Normalize ettik\n",
    "    x.append(img)\n",
    "x=np.array(x)"
   ]
  },
  {
   "cell_type": "code",
   "execution_count": 12,
   "id": "72088d68",
   "metadata": {},
   "outputs": [],
   "source": [
    "y=df['encode_label']"
   ]
  },
  {
   "cell_type": "code",
   "execution_count": 13,
   "id": "bfa8e540",
   "metadata": {},
   "outputs": [],
   "source": [
    "from sklearn.model_selection import train_test_split\n",
    "x_train,x_test,y_train,y_test=train_test_split(x,y,test_size=0.2,random_state=0)"
   ]
  },
  {
   "cell_type": "code",
   "execution_count": 14,
   "id": "b784910a",
   "metadata": {},
   "outputs": [],
   "source": [
    "from keras.models import Sequential\n",
    "from keras.layers import  Dense, Conv2D, Input, Reshape, MaxPooling2D, Flatten, Dropout, BatchNormalization"
   ]
  },
  {
   "cell_type": "code",
   "execution_count": 15,
   "id": "844fb30f",
   "metadata": {},
   "outputs": [],
   "source": [
    "model=Sequential()\n",
    "model.add(Input(shape=(170,170,3)))\n",
    "model.add(Conv2D(32,kernel_size=(3,3),activation='relu'))\n",
    "model.add(Conv2D(64,kernel_size=(3,3),activation='relu'))\n",
    "model.add(MaxPooling2D(pool_size=(2,2)))\n",
    "model.add(Dropout(0.2))\n",
    "model.add(Conv2D(128,kernel_size=(3,3),activation='relu'))\n",
    "model.add(MaxPooling2D(pool_size=(2,2)))\n",
    "model.add(Dropout(0.2))\n",
    "model.add(Flatten())\n",
    "model.add(Dense(128))\n",
    "model.add(Dense(64))\n",
    "model.add(Dense(4, activation='softmax')) \n",
    "model.compile(optimizer='adam',loss='sparse_categorical_crossentropy',metrics=['accuracy'])"
   ]
  },
  {
   "cell_type": "code",
   "execution_count": 16,
   "id": "e833ab33",
   "metadata": {},
   "outputs": [
    {
     "name": "stdout",
     "output_type": "stream",
     "text": [
      "Epoch 1/10\n",
      "\u001b[1m300/300\u001b[0m \u001b[32m━━━━━━━━━━━━━━━━━━━━\u001b[0m\u001b[37m\u001b[0m \u001b[1m690s\u001b[0m 2s/step - accuracy: 0.6887 - loss: 2.7705 - val_accuracy: 0.8954 - val_loss: 0.2839\n",
      "Epoch 2/10\n",
      "\u001b[1m300/300\u001b[0m \u001b[32m━━━━━━━━━━━━━━━━━━━━\u001b[0m\u001b[37m\u001b[0m \u001b[1m629s\u001b[0m 2s/step - accuracy: 0.9177 - loss: 0.2242 - val_accuracy: 0.9467 - val_loss: 0.1699\n",
      "Epoch 3/10\n",
      "\u001b[1m300/300\u001b[0m \u001b[32m━━━━━━━━━━━━━━━━━━━━\u001b[0m\u001b[37m\u001b[0m \u001b[1m633s\u001b[0m 2s/step - accuracy: 0.9657 - loss: 0.1055 - val_accuracy: 0.9742 - val_loss: 0.0831\n",
      "Epoch 4/10\n",
      "\u001b[1m300/300\u001b[0m \u001b[32m━━━━━━━━━━━━━━━━━━━━\u001b[0m\u001b[37m\u001b[0m \u001b[1m640s\u001b[0m 2s/step - accuracy: 0.9732 - loss: 0.0830 - val_accuracy: 0.9629 - val_loss: 0.1262\n",
      "Epoch 5/10\n",
      "\u001b[1m300/300\u001b[0m \u001b[32m━━━━━━━━━━━━━━━━━━━━\u001b[0m\u001b[37m\u001b[0m \u001b[1m620s\u001b[0m 2s/step - accuracy: 0.9874 - loss: 0.0365 - val_accuracy: 0.9617 - val_loss: 0.0972\n",
      "Epoch 6/10\n",
      "\u001b[1m300/300\u001b[0m \u001b[32m━━━━━━━━━━━━━━━━━━━━\u001b[0m\u001b[37m\u001b[0m \u001b[1m617s\u001b[0m 2s/step - accuracy: 0.9734 - loss: 0.0811 - val_accuracy: 0.9521 - val_loss: 0.1355\n",
      "Epoch 7/10\n",
      "\u001b[1m300/300\u001b[0m \u001b[32m━━━━━━━━━━━━━━━━━━━━\u001b[0m\u001b[37m\u001b[0m \u001b[1m628s\u001b[0m 2s/step - accuracy: 0.9853 - loss: 0.0453 - val_accuracy: 0.9692 - val_loss: 0.1085\n",
      "Epoch 8/10\n",
      "\u001b[1m300/300\u001b[0m \u001b[32m━━━━━━━━━━━━━━━━━━━━\u001b[0m\u001b[37m\u001b[0m \u001b[1m621s\u001b[0m 2s/step - accuracy: 0.9877 - loss: 0.0409 - val_accuracy: 0.9804 - val_loss: 0.0718\n",
      "Epoch 9/10\n",
      "\u001b[1m300/300\u001b[0m \u001b[32m━━━━━━━━━━━━━━━━━━━━\u001b[0m\u001b[37m\u001b[0m \u001b[1m599s\u001b[0m 2s/step - accuracy: 0.9802 - loss: 0.0625 - val_accuracy: 0.9550 - val_loss: 0.1442\n",
      "Epoch 10/10\n",
      "\u001b[1m300/300\u001b[0m \u001b[32m━━━━━━━━━━━━━━━━━━━━\u001b[0m\u001b[37m\u001b[0m \u001b[1m601s\u001b[0m 2s/step - accuracy: 0.9883 - loss: 0.0333 - val_accuracy: 0.9758 - val_loss: 0.0946\n"
     ]
    }
   ],
   "source": [
    "history=model.fit(x_train,y_train,validation_data=(x_test,y_test),epochs=10,verbose=1)"
   ]
  },
  {
   "cell_type": "code",
   "execution_count": 17,
   "id": "ee88ed08",
   "metadata": {},
   "outputs": [
    {
     "name": "stderr",
     "output_type": "stream",
     "text": [
      "WARNING:absl:You are saving your model as an HDF5 file via `model.save()` or `keras.saving.save_model(model)`. This file format is considered legacy. We recommend using instead the native Keras format, e.g. `model.save('my_model.keras')` or `keras.saving.save_model(model, 'my_model.keras')`. \n"
     ]
    }
   ],
   "source": [
    "model.save('my_gd_model.h5')"
   ]
  },
  {
   "cell_type": "markdown",
   "id": "5d7e355a",
   "metadata": {},
   "source": [
    "According to the classification results, it's now easier to discern which grapevine diseases belong to which categories within the Augmented Grapevine Disease project."
   ]
  },
  {
   "cell_type": "code",
   "execution_count": null,
   "id": "a0591b6d",
   "metadata": {},
   "outputs": [],
   "source": []
  }
 ],
 "metadata": {
  "kernelspec": {
   "display_name": "Python 3 (ipykernel)",
   "language": "python",
   "name": "python3"
  },
  "language_info": {
   "codemirror_mode": {
    "name": "ipython",
    "version": 3
   },
   "file_extension": ".py",
   "mimetype": "text/x-python",
   "name": "python",
   "nbconvert_exporter": "python",
   "pygments_lexer": "ipython3",
   "version": "3.11.5"
  }
 },
 "nbformat": 4,
 "nbformat_minor": 5
}
